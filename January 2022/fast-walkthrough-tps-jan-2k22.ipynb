{
 "cells": [
  {
   "cell_type": "markdown",
   "id": "6ada0b1b",
   "metadata": {
    "papermill": {
     "duration": 0.051279,
     "end_time": "2022-01-03T10:07:45.278200",
     "exception": false,
     "start_time": "2022-01-03T10:07:45.226921",
     "status": "completed"
    },
    "tags": []
   },
   "source": [
    "# Fast Walkthrough : TPS JAN 2k22\n",
    "\n",
    "This notebook holds a short and brief approach in submitting solutions for TPS competitions.\n",
    "\n",
    "Do **upvote** if you like it."
   ]
  },
  {
   "cell_type": "code",
   "execution_count": 1,
   "id": "90a47083",
   "metadata": {
    "execution": {
     "iopub.execute_input": "2022-01-03T10:07:45.373149Z",
     "iopub.status.busy": "2022-01-03T10:07:45.372105Z",
     "iopub.status.idle": "2022-01-03T10:07:45.379416Z",
     "shell.execute_reply": "2022-01-03T10:07:45.379987Z",
     "shell.execute_reply.started": "2022-01-03T10:06:44.710019Z"
    },
    "papermill": {
     "duration": 0.055999,
     "end_time": "2022-01-03T10:07:45.380232",
     "exception": false,
     "start_time": "2022-01-03T10:07:45.324233",
     "status": "completed"
    },
    "tags": []
   },
   "outputs": [],
   "source": [
    "# Importing basic data manipulation libraies\n",
    "\n",
    "import numpy as np\n",
    "import pandas as pd"
   ]
  },
  {
   "cell_type": "code",
   "execution_count": 2,
   "id": "524d408d",
   "metadata": {
    "execution": {
     "iopub.execute_input": "2022-01-03T10:07:45.477715Z",
     "iopub.status.busy": "2022-01-03T10:07:45.477115Z",
     "iopub.status.idle": "2022-01-03T10:07:45.479663Z",
     "shell.execute_reply": "2022-01-03T10:07:45.480178Z",
     "shell.execute_reply.started": "2022-01-03T10:06:44.740410Z"
    },
    "papermill": {
     "duration": 0.052664,
     "end_time": "2022-01-03T10:07:45.480325",
     "exception": false,
     "start_time": "2022-01-03T10:07:45.427661",
     "status": "completed"
    },
    "tags": []
   },
   "outputs": [],
   "source": [
    "# Filtering warning so that they do not appear on the notebook\n",
    "\n",
    "import warnings\n",
    "warnings.filterwarnings('ignore')"
   ]
  },
  {
   "cell_type": "code",
   "execution_count": 3,
   "id": "094caaa4",
   "metadata": {
    "execution": {
     "iopub.execute_input": "2022-01-03T10:07:45.584268Z",
     "iopub.status.busy": "2022-01-03T10:07:45.583574Z",
     "iopub.status.idle": "2022-01-03T10:07:45.587646Z",
     "shell.execute_reply": "2022-01-03T10:07:45.588172Z",
     "shell.execute_reply.started": "2022-01-03T10:06:44.745817Z"
    },
    "papermill": {
     "duration": 0.059079,
     "end_time": "2022-01-03T10:07:45.588323",
     "exception": false,
     "start_time": "2022-01-03T10:07:45.529244",
     "status": "completed"
    },
    "tags": []
   },
   "outputs": [],
   "source": [
    "# Data Paths\n",
    "\n",
    "train_data_path = '../input/tabular-playground-series-jan-2022/train.csv'\n",
    "test_data_path = '../input/tabular-playground-series-jan-2022/test.csv'"
   ]
  },
  {
   "cell_type": "code",
   "execution_count": 4,
   "id": "cdbf0381",
   "metadata": {
    "execution": {
     "iopub.execute_input": "2022-01-03T10:07:45.686773Z",
     "iopub.status.busy": "2022-01-03T10:07:45.686149Z",
     "iopub.status.idle": "2022-01-03T10:07:45.752796Z",
     "shell.execute_reply": "2022-01-03T10:07:45.752160Z",
     "shell.execute_reply.started": "2022-01-03T10:06:44.760439Z"
    },
    "papermill": {
     "duration": 0.116389,
     "end_time": "2022-01-03T10:07:45.752952",
     "exception": false,
     "start_time": "2022-01-03T10:07:45.636563",
     "status": "completed"
    },
    "tags": []
   },
   "outputs": [
    {
     "data": {
      "text/html": [
       "<div>\n",
       "<style scoped>\n",
       "    .dataframe tbody tr th:only-of-type {\n",
       "        vertical-align: middle;\n",
       "    }\n",
       "\n",
       "    .dataframe tbody tr th {\n",
       "        vertical-align: top;\n",
       "    }\n",
       "\n",
       "    .dataframe thead th {\n",
       "        text-align: right;\n",
       "    }\n",
       "</style>\n",
       "<table border=\"1\" class=\"dataframe\">\n",
       "  <thead>\n",
       "    <tr style=\"text-align: right;\">\n",
       "      <th></th>\n",
       "      <th>row_id</th>\n",
       "      <th>date</th>\n",
       "      <th>country</th>\n",
       "      <th>store</th>\n",
       "      <th>product</th>\n",
       "      <th>num_sold</th>\n",
       "    </tr>\n",
       "  </thead>\n",
       "  <tbody>\n",
       "    <tr>\n",
       "      <th>0</th>\n",
       "      <td>0</td>\n",
       "      <td>2015-01-01</td>\n",
       "      <td>Finland</td>\n",
       "      <td>KaggleMart</td>\n",
       "      <td>Kaggle Mug</td>\n",
       "      <td>329</td>\n",
       "    </tr>\n",
       "    <tr>\n",
       "      <th>1</th>\n",
       "      <td>1</td>\n",
       "      <td>2015-01-01</td>\n",
       "      <td>Finland</td>\n",
       "      <td>KaggleMart</td>\n",
       "      <td>Kaggle Hat</td>\n",
       "      <td>520</td>\n",
       "    </tr>\n",
       "    <tr>\n",
       "      <th>2</th>\n",
       "      <td>2</td>\n",
       "      <td>2015-01-01</td>\n",
       "      <td>Finland</td>\n",
       "      <td>KaggleMart</td>\n",
       "      <td>Kaggle Sticker</td>\n",
       "      <td>146</td>\n",
       "    </tr>\n",
       "    <tr>\n",
       "      <th>3</th>\n",
       "      <td>3</td>\n",
       "      <td>2015-01-01</td>\n",
       "      <td>Finland</td>\n",
       "      <td>KaggleRama</td>\n",
       "      <td>Kaggle Mug</td>\n",
       "      <td>572</td>\n",
       "    </tr>\n",
       "    <tr>\n",
       "      <th>4</th>\n",
       "      <td>4</td>\n",
       "      <td>2015-01-01</td>\n",
       "      <td>Finland</td>\n",
       "      <td>KaggleRama</td>\n",
       "      <td>Kaggle Hat</td>\n",
       "      <td>911</td>\n",
       "    </tr>\n",
       "  </tbody>\n",
       "</table>\n",
       "</div>"
      ],
      "text/plain": [
       "   row_id        date  country       store         product  num_sold\n",
       "0       0  2015-01-01  Finland  KaggleMart      Kaggle Mug       329\n",
       "1       1  2015-01-01  Finland  KaggleMart      Kaggle Hat       520\n",
       "2       2  2015-01-01  Finland  KaggleMart  Kaggle Sticker       146\n",
       "3       3  2015-01-01  Finland  KaggleRama      Kaggle Mug       572\n",
       "4       4  2015-01-01  Finland  KaggleRama      Kaggle Hat       911"
      ]
     },
     "execution_count": 4,
     "metadata": {},
     "output_type": "execute_result"
    }
   ],
   "source": [
    "# Loading Train Data\n",
    "\n",
    "train_df = pd.read_csv(train_data_path)\n",
    "train_df.head()"
   ]
  },
  {
   "cell_type": "code",
   "execution_count": 5,
   "id": "a491873c",
   "metadata": {
    "execution": {
     "iopub.execute_input": "2022-01-03T10:07:45.852053Z",
     "iopub.status.busy": "2022-01-03T10:07:45.851105Z",
     "iopub.status.idle": "2022-01-03T10:07:45.877373Z",
     "shell.execute_reply": "2022-01-03T10:07:45.877833Z",
     "shell.execute_reply.started": "2022-01-03T10:06:44.844799Z"
    },
    "papermill": {
     "duration": 0.07766,
     "end_time": "2022-01-03T10:07:45.878031",
     "exception": false,
     "start_time": "2022-01-03T10:07:45.800371",
     "status": "completed"
    },
    "tags": []
   },
   "outputs": [
    {
     "data": {
      "text/html": [
       "<div>\n",
       "<style scoped>\n",
       "    .dataframe tbody tr th:only-of-type {\n",
       "        vertical-align: middle;\n",
       "    }\n",
       "\n",
       "    .dataframe tbody tr th {\n",
       "        vertical-align: top;\n",
       "    }\n",
       "\n",
       "    .dataframe thead th {\n",
       "        text-align: right;\n",
       "    }\n",
       "</style>\n",
       "<table border=\"1\" class=\"dataframe\">\n",
       "  <thead>\n",
       "    <tr style=\"text-align: right;\">\n",
       "      <th></th>\n",
       "      <th>row_id</th>\n",
       "      <th>date</th>\n",
       "      <th>country</th>\n",
       "      <th>store</th>\n",
       "      <th>product</th>\n",
       "    </tr>\n",
       "  </thead>\n",
       "  <tbody>\n",
       "    <tr>\n",
       "      <th>0</th>\n",
       "      <td>26298</td>\n",
       "      <td>2019-01-01</td>\n",
       "      <td>Finland</td>\n",
       "      <td>KaggleMart</td>\n",
       "      <td>Kaggle Mug</td>\n",
       "    </tr>\n",
       "    <tr>\n",
       "      <th>1</th>\n",
       "      <td>26299</td>\n",
       "      <td>2019-01-01</td>\n",
       "      <td>Finland</td>\n",
       "      <td>KaggleMart</td>\n",
       "      <td>Kaggle Hat</td>\n",
       "    </tr>\n",
       "    <tr>\n",
       "      <th>2</th>\n",
       "      <td>26300</td>\n",
       "      <td>2019-01-01</td>\n",
       "      <td>Finland</td>\n",
       "      <td>KaggleMart</td>\n",
       "      <td>Kaggle Sticker</td>\n",
       "    </tr>\n",
       "    <tr>\n",
       "      <th>3</th>\n",
       "      <td>26301</td>\n",
       "      <td>2019-01-01</td>\n",
       "      <td>Finland</td>\n",
       "      <td>KaggleRama</td>\n",
       "      <td>Kaggle Mug</td>\n",
       "    </tr>\n",
       "    <tr>\n",
       "      <th>4</th>\n",
       "      <td>26302</td>\n",
       "      <td>2019-01-01</td>\n",
       "      <td>Finland</td>\n",
       "      <td>KaggleRama</td>\n",
       "      <td>Kaggle Hat</td>\n",
       "    </tr>\n",
       "  </tbody>\n",
       "</table>\n",
       "</div>"
      ],
      "text/plain": [
       "   row_id        date  country       store         product\n",
       "0   26298  2019-01-01  Finland  KaggleMart      Kaggle Mug\n",
       "1   26299  2019-01-01  Finland  KaggleMart      Kaggle Hat\n",
       "2   26300  2019-01-01  Finland  KaggleMart  Kaggle Sticker\n",
       "3   26301  2019-01-01  Finland  KaggleRama      Kaggle Mug\n",
       "4   26302  2019-01-01  Finland  KaggleRama      Kaggle Hat"
      ]
     },
     "execution_count": 5,
     "metadata": {},
     "output_type": "execute_result"
    }
   ],
   "source": [
    "# Loading Test Data\n",
    "\n",
    "test_df = pd.read_csv(test_data_path)\n",
    "test_df.head()"
   ]
  },
  {
   "cell_type": "code",
   "execution_count": 6,
   "id": "ff538560",
   "metadata": {
    "execution": {
     "iopub.execute_input": "2022-01-03T10:07:45.977919Z",
     "iopub.status.busy": "2022-01-03T10:07:45.976976Z",
     "iopub.status.idle": "2022-01-03T10:07:46.077765Z",
     "shell.execute_reply": "2022-01-03T10:07:46.078219Z",
     "shell.execute_reply.started": "2022-01-03T10:06:44.875514Z"
    },
    "papermill": {
     "duration": 0.151645,
     "end_time": "2022-01-03T10:07:46.078377",
     "exception": false,
     "start_time": "2022-01-03T10:07:45.926732",
     "status": "completed"
    },
    "tags": []
   },
   "outputs": [
    {
     "data": {
      "text/html": [
       "<div>\n",
       "<style scoped>\n",
       "    .dataframe tbody tr th:only-of-type {\n",
       "        vertical-align: middle;\n",
       "    }\n",
       "\n",
       "    .dataframe tbody tr th {\n",
       "        vertical-align: top;\n",
       "    }\n",
       "\n",
       "    .dataframe thead th {\n",
       "        text-align: right;\n",
       "    }\n",
       "</style>\n",
       "<table border=\"1\" class=\"dataframe\">\n",
       "  <thead>\n",
       "    <tr style=\"text-align: right;\">\n",
       "      <th></th>\n",
       "      <th>row_id</th>\n",
       "      <th>country</th>\n",
       "      <th>store</th>\n",
       "      <th>product</th>\n",
       "      <th>num_sold</th>\n",
       "      <th>year</th>\n",
       "      <th>month</th>\n",
       "      <th>day</th>\n",
       "    </tr>\n",
       "  </thead>\n",
       "  <tbody>\n",
       "    <tr>\n",
       "      <th>0</th>\n",
       "      <td>0</td>\n",
       "      <td>Finland</td>\n",
       "      <td>KaggleMart</td>\n",
       "      <td>Kaggle Mug</td>\n",
       "      <td>329</td>\n",
       "      <td>2015</td>\n",
       "      <td>1</td>\n",
       "      <td>1</td>\n",
       "    </tr>\n",
       "    <tr>\n",
       "      <th>1</th>\n",
       "      <td>1</td>\n",
       "      <td>Finland</td>\n",
       "      <td>KaggleMart</td>\n",
       "      <td>Kaggle Hat</td>\n",
       "      <td>520</td>\n",
       "      <td>2015</td>\n",
       "      <td>1</td>\n",
       "      <td>1</td>\n",
       "    </tr>\n",
       "    <tr>\n",
       "      <th>2</th>\n",
       "      <td>2</td>\n",
       "      <td>Finland</td>\n",
       "      <td>KaggleMart</td>\n",
       "      <td>Kaggle Sticker</td>\n",
       "      <td>146</td>\n",
       "      <td>2015</td>\n",
       "      <td>1</td>\n",
       "      <td>1</td>\n",
       "    </tr>\n",
       "    <tr>\n",
       "      <th>3</th>\n",
       "      <td>3</td>\n",
       "      <td>Finland</td>\n",
       "      <td>KaggleRama</td>\n",
       "      <td>Kaggle Mug</td>\n",
       "      <td>572</td>\n",
       "      <td>2015</td>\n",
       "      <td>1</td>\n",
       "      <td>1</td>\n",
       "    </tr>\n",
       "    <tr>\n",
       "      <th>4</th>\n",
       "      <td>4</td>\n",
       "      <td>Finland</td>\n",
       "      <td>KaggleRama</td>\n",
       "      <td>Kaggle Hat</td>\n",
       "      <td>911</td>\n",
       "      <td>2015</td>\n",
       "      <td>1</td>\n",
       "      <td>1</td>\n",
       "    </tr>\n",
       "  </tbody>\n",
       "</table>\n",
       "</div>"
      ],
      "text/plain": [
       "   row_id  country       store         product  num_sold  year  month  day\n",
       "0       0  Finland  KaggleMart      Kaggle Mug       329  2015      1    1\n",
       "1       1  Finland  KaggleMart      Kaggle Hat       520  2015      1    1\n",
       "2       2  Finland  KaggleMart  Kaggle Sticker       146  2015      1    1\n",
       "3       3  Finland  KaggleRama      Kaggle Mug       572  2015      1    1\n",
       "4       4  Finland  KaggleRama      Kaggle Hat       911  2015      1    1"
      ]
     },
     "execution_count": 6,
     "metadata": {},
     "output_type": "execute_result"
    }
   ],
   "source": [
    "# splitting the feature into understandable format\n",
    "\n",
    "train_df['year'] = train_df['date'].apply(lambda x : int(x.split('-')[0]))\n",
    "train_df['month'] = train_df['date'].apply(lambda x : int(x.split('-')[1]))\n",
    "train_df['day'] = train_df['date'].apply(lambda x : int(x.split('-')[2]))\n",
    "train_df.drop('date', 1, inplace = True)\n",
    "train_df.head()"
   ]
  },
  {
   "cell_type": "code",
   "execution_count": 7,
   "id": "1786c0e1",
   "metadata": {
    "execution": {
     "iopub.execute_input": "2022-01-03T10:07:46.172286Z",
     "iopub.status.busy": "2022-01-03T10:07:46.171475Z",
     "iopub.status.idle": "2022-01-03T10:07:46.206131Z",
     "shell.execute_reply": "2022-01-03T10:07:46.205632Z",
     "shell.execute_reply.started": "2022-01-03T10:06:44.989179Z"
    },
    "papermill": {
     "duration": 0.08241,
     "end_time": "2022-01-03T10:07:46.206260",
     "exception": false,
     "start_time": "2022-01-03T10:07:46.123850",
     "status": "completed"
    },
    "tags": []
   },
   "outputs": [
    {
     "data": {
      "text/html": [
       "<div>\n",
       "<style scoped>\n",
       "    .dataframe tbody tr th:only-of-type {\n",
       "        vertical-align: middle;\n",
       "    }\n",
       "\n",
       "    .dataframe tbody tr th {\n",
       "        vertical-align: top;\n",
       "    }\n",
       "\n",
       "    .dataframe thead th {\n",
       "        text-align: right;\n",
       "    }\n",
       "</style>\n",
       "<table border=\"1\" class=\"dataframe\">\n",
       "  <thead>\n",
       "    <tr style=\"text-align: right;\">\n",
       "      <th></th>\n",
       "      <th>row_id</th>\n",
       "      <th>country</th>\n",
       "      <th>store</th>\n",
       "      <th>product</th>\n",
       "      <th>year</th>\n",
       "      <th>month</th>\n",
       "      <th>day</th>\n",
       "    </tr>\n",
       "  </thead>\n",
       "  <tbody>\n",
       "    <tr>\n",
       "      <th>0</th>\n",
       "      <td>26298</td>\n",
       "      <td>Finland</td>\n",
       "      <td>KaggleMart</td>\n",
       "      <td>Kaggle Mug</td>\n",
       "      <td>2019</td>\n",
       "      <td>1</td>\n",
       "      <td>1</td>\n",
       "    </tr>\n",
       "    <tr>\n",
       "      <th>1</th>\n",
       "      <td>26299</td>\n",
       "      <td>Finland</td>\n",
       "      <td>KaggleMart</td>\n",
       "      <td>Kaggle Hat</td>\n",
       "      <td>2019</td>\n",
       "      <td>1</td>\n",
       "      <td>1</td>\n",
       "    </tr>\n",
       "    <tr>\n",
       "      <th>2</th>\n",
       "      <td>26300</td>\n",
       "      <td>Finland</td>\n",
       "      <td>KaggleMart</td>\n",
       "      <td>Kaggle Sticker</td>\n",
       "      <td>2019</td>\n",
       "      <td>1</td>\n",
       "      <td>1</td>\n",
       "    </tr>\n",
       "    <tr>\n",
       "      <th>3</th>\n",
       "      <td>26301</td>\n",
       "      <td>Finland</td>\n",
       "      <td>KaggleRama</td>\n",
       "      <td>Kaggle Mug</td>\n",
       "      <td>2019</td>\n",
       "      <td>1</td>\n",
       "      <td>1</td>\n",
       "    </tr>\n",
       "    <tr>\n",
       "      <th>4</th>\n",
       "      <td>26302</td>\n",
       "      <td>Finland</td>\n",
       "      <td>KaggleRama</td>\n",
       "      <td>Kaggle Hat</td>\n",
       "      <td>2019</td>\n",
       "      <td>1</td>\n",
       "      <td>1</td>\n",
       "    </tr>\n",
       "  </tbody>\n",
       "</table>\n",
       "</div>"
      ],
      "text/plain": [
       "   row_id  country       store         product  year  month  day\n",
       "0   26298  Finland  KaggleMart      Kaggle Mug  2019      1    1\n",
       "1   26299  Finland  KaggleMart      Kaggle Hat  2019      1    1\n",
       "2   26300  Finland  KaggleMart  Kaggle Sticker  2019      1    1\n",
       "3   26301  Finland  KaggleRama      Kaggle Mug  2019      1    1\n",
       "4   26302  Finland  KaggleRama      Kaggle Hat  2019      1    1"
      ]
     },
     "execution_count": 7,
     "metadata": {},
     "output_type": "execute_result"
    }
   ],
   "source": [
    "test_df['year'] = test_df['date'].apply(lambda x : int(x.split('-')[0]))\n",
    "test_df['month'] = test_df['date'].apply(lambda x : int(x.split('-')[1]))\n",
    "test_df['day'] = test_df['date'].apply(lambda x : int(x.split('-')[2]))\n",
    "test_df.drop('date', 1, inplace = True)\n",
    "test_df.head()"
   ]
  },
  {
   "cell_type": "code",
   "execution_count": 8,
   "id": "9f92c51d",
   "metadata": {
    "execution": {
     "iopub.execute_input": "2022-01-03T10:07:46.303638Z",
     "iopub.status.busy": "2022-01-03T10:07:46.303077Z",
     "iopub.status.idle": "2022-01-03T10:07:46.326492Z",
     "shell.execute_reply": "2022-01-03T10:07:46.325900Z",
     "shell.execute_reply.started": "2022-01-03T10:06:45.032659Z"
    },
    "papermill": {
     "duration": 0.073379,
     "end_time": "2022-01-03T10:07:46.326618",
     "exception": false,
     "start_time": "2022-01-03T10:07:46.253239",
     "status": "completed"
    },
    "tags": []
   },
   "outputs": [
    {
     "name": "stdout",
     "output_type": "stream",
     "text": [
      "<class 'pandas.core.frame.DataFrame'>\n",
      "RangeIndex: 26298 entries, 0 to 26297\n",
      "Data columns (total 8 columns):\n",
      " #   Column    Non-Null Count  Dtype \n",
      "---  ------    --------------  ----- \n",
      " 0   row_id    26298 non-null  int64 \n",
      " 1   country   26298 non-null  object\n",
      " 2   store     26298 non-null  object\n",
      " 3   product   26298 non-null  object\n",
      " 4   num_sold  26298 non-null  int64 \n",
      " 5   year      26298 non-null  int64 \n",
      " 6   month     26298 non-null  int64 \n",
      " 7   day       26298 non-null  int64 \n",
      "dtypes: int64(5), object(3)\n",
      "memory usage: 1.6+ MB\n"
     ]
    }
   ],
   "source": [
    "train_df.info()"
   ]
  },
  {
   "cell_type": "code",
   "execution_count": 9,
   "id": "2f3bfad0",
   "metadata": {
    "execution": {
     "iopub.execute_input": "2022-01-03T10:07:46.433338Z",
     "iopub.status.busy": "2022-01-03T10:07:46.432504Z",
     "iopub.status.idle": "2022-01-03T10:07:46.436054Z",
     "shell.execute_reply": "2022-01-03T10:07:46.435555Z",
     "shell.execute_reply.started": "2022-01-03T10:06:45.060519Z"
    },
    "papermill": {
     "duration": 0.061563,
     "end_time": "2022-01-03T10:07:46.436178",
     "exception": false,
     "start_time": "2022-01-03T10:07:46.374615",
     "status": "completed"
    },
    "tags": []
   },
   "outputs": [
    {
     "data": {
      "text/html": [
       "<div>\n",
       "<style scoped>\n",
       "    .dataframe tbody tr th:only-of-type {\n",
       "        vertical-align: middle;\n",
       "    }\n",
       "\n",
       "    .dataframe tbody tr th {\n",
       "        vertical-align: top;\n",
       "    }\n",
       "\n",
       "    .dataframe thead th {\n",
       "        text-align: right;\n",
       "    }\n",
       "</style>\n",
       "<table border=\"1\" class=\"dataframe\">\n",
       "  <thead>\n",
       "    <tr style=\"text-align: right;\">\n",
       "      <th></th>\n",
       "      <th>row_id</th>\n",
       "      <th>country</th>\n",
       "      <th>store</th>\n",
       "      <th>product</th>\n",
       "      <th>year</th>\n",
       "      <th>month</th>\n",
       "      <th>day</th>\n",
       "    </tr>\n",
       "  </thead>\n",
       "  <tbody>\n",
       "    <tr>\n",
       "      <th>0</th>\n",
       "      <td>26298</td>\n",
       "      <td>Finland</td>\n",
       "      <td>KaggleMart</td>\n",
       "      <td>Kaggle Mug</td>\n",
       "      <td>2019</td>\n",
       "      <td>1</td>\n",
       "      <td>1</td>\n",
       "    </tr>\n",
       "    <tr>\n",
       "      <th>1</th>\n",
       "      <td>26299</td>\n",
       "      <td>Finland</td>\n",
       "      <td>KaggleMart</td>\n",
       "      <td>Kaggle Hat</td>\n",
       "      <td>2019</td>\n",
       "      <td>1</td>\n",
       "      <td>1</td>\n",
       "    </tr>\n",
       "    <tr>\n",
       "      <th>2</th>\n",
       "      <td>26300</td>\n",
       "      <td>Finland</td>\n",
       "      <td>KaggleMart</td>\n",
       "      <td>Kaggle Sticker</td>\n",
       "      <td>2019</td>\n",
       "      <td>1</td>\n",
       "      <td>1</td>\n",
       "    </tr>\n",
       "    <tr>\n",
       "      <th>3</th>\n",
       "      <td>26301</td>\n",
       "      <td>Finland</td>\n",
       "      <td>KaggleRama</td>\n",
       "      <td>Kaggle Mug</td>\n",
       "      <td>2019</td>\n",
       "      <td>1</td>\n",
       "      <td>1</td>\n",
       "    </tr>\n",
       "    <tr>\n",
       "      <th>4</th>\n",
       "      <td>26302</td>\n",
       "      <td>Finland</td>\n",
       "      <td>KaggleRama</td>\n",
       "      <td>Kaggle Hat</td>\n",
       "      <td>2019</td>\n",
       "      <td>1</td>\n",
       "      <td>1</td>\n",
       "    </tr>\n",
       "  </tbody>\n",
       "</table>\n",
       "</div>"
      ],
      "text/plain": [
       "   row_id  country       store         product  year  month  day\n",
       "0   26298  Finland  KaggleMart      Kaggle Mug  2019      1    1\n",
       "1   26299  Finland  KaggleMart      Kaggle Hat  2019      1    1\n",
       "2   26300  Finland  KaggleMart  Kaggle Sticker  2019      1    1\n",
       "3   26301  Finland  KaggleRama      Kaggle Mug  2019      1    1\n",
       "4   26302  Finland  KaggleRama      Kaggle Hat  2019      1    1"
      ]
     },
     "execution_count": 9,
     "metadata": {},
     "output_type": "execute_result"
    }
   ],
   "source": [
    "test_df.head()"
   ]
  },
  {
   "cell_type": "markdown",
   "id": "3000ed3a",
   "metadata": {
    "papermill": {
     "duration": 0.045689,
     "end_time": "2022-01-03T10:07:46.529336",
     "exception": false,
     "start_time": "2022-01-03T10:07:46.483647",
     "status": "completed"
    },
    "tags": []
   },
   "source": [
    "#### Checking the data splitt through various category / features."
   ]
  },
  {
   "cell_type": "code",
   "execution_count": 10,
   "id": "3f93d048",
   "metadata": {
    "execution": {
     "iopub.execute_input": "2022-01-03T10:07:46.633108Z",
     "iopub.status.busy": "2022-01-03T10:07:46.632244Z",
     "iopub.status.idle": "2022-01-03T10:07:46.635352Z",
     "shell.execute_reply": "2022-01-03T10:07:46.635864Z",
     "shell.execute_reply.started": "2022-01-03T10:06:45.076143Z"
    },
    "papermill": {
     "duration": 0.05923,
     "end_time": "2022-01-03T10:07:46.636012",
     "exception": false,
     "start_time": "2022-01-03T10:07:46.576782",
     "status": "completed"
    },
    "tags": []
   },
   "outputs": [
    {
     "data": {
      "text/plain": [
       "Finland    8766\n",
       "Norway     8766\n",
       "Sweden     8766\n",
       "Name: country, dtype: int64"
      ]
     },
     "execution_count": 10,
     "metadata": {},
     "output_type": "execute_result"
    }
   ],
   "source": [
    "train_df.country.value_counts()"
   ]
  },
  {
   "cell_type": "code",
   "execution_count": 11,
   "id": "78261275",
   "metadata": {
    "execution": {
     "iopub.execute_input": "2022-01-03T10:07:46.735998Z",
     "iopub.status.busy": "2022-01-03T10:07:46.735149Z",
     "iopub.status.idle": "2022-01-03T10:07:46.739577Z",
     "shell.execute_reply": "2022-01-03T10:07:46.740105Z",
     "shell.execute_reply.started": "2022-01-03T10:06:45.093979Z"
    },
    "papermill": {
     "duration": 0.055603,
     "end_time": "2022-01-03T10:07:46.740243",
     "exception": false,
     "start_time": "2022-01-03T10:07:46.684640",
     "status": "completed"
    },
    "tags": []
   },
   "outputs": [
    {
     "data": {
      "text/plain": [
       "Finland    2190\n",
       "Norway     2190\n",
       "Sweden     2190\n",
       "Name: country, dtype: int64"
      ]
     },
     "execution_count": 11,
     "metadata": {},
     "output_type": "execute_result"
    }
   ],
   "source": [
    "test_df.country.value_counts()"
   ]
  },
  {
   "cell_type": "code",
   "execution_count": 12,
   "id": "96da68b0",
   "metadata": {
    "execution": {
     "iopub.execute_input": "2022-01-03T10:07:46.848952Z",
     "iopub.status.busy": "2022-01-03T10:07:46.847241Z",
     "iopub.status.idle": "2022-01-03T10:07:46.857469Z",
     "shell.execute_reply": "2022-01-03T10:07:46.858180Z",
     "shell.execute_reply.started": "2022-01-03T10:06:45.109519Z"
    },
    "papermill": {
     "duration": 0.069775,
     "end_time": "2022-01-03T10:07:46.858377",
     "exception": false,
     "start_time": "2022-01-03T10:07:46.788602",
     "status": "completed"
    },
    "tags": []
   },
   "outputs": [
    {
     "data": {
      "text/plain": [
       "KaggleMart    13149\n",
       "KaggleRama    13149\n",
       "Name: store, dtype: int64"
      ]
     },
     "execution_count": 12,
     "metadata": {},
     "output_type": "execute_result"
    }
   ],
   "source": [
    "train_df.store.value_counts()"
   ]
  },
  {
   "cell_type": "code",
   "execution_count": 13,
   "id": "2fda9040",
   "metadata": {
    "execution": {
     "iopub.execute_input": "2022-01-03T10:07:46.984439Z",
     "iopub.status.busy": "2022-01-03T10:07:46.981619Z",
     "iopub.status.idle": "2022-01-03T10:07:46.989820Z",
     "shell.execute_reply": "2022-01-03T10:07:46.989230Z",
     "shell.execute_reply.started": "2022-01-03T10:06:45.124909Z"
    },
    "papermill": {
     "duration": 0.072494,
     "end_time": "2022-01-03T10:07:46.989995",
     "exception": false,
     "start_time": "2022-01-03T10:07:46.917501",
     "status": "completed"
    },
    "tags": []
   },
   "outputs": [
    {
     "data": {
      "text/plain": [
       "KaggleMart    3285\n",
       "KaggleRama    3285\n",
       "Name: store, dtype: int64"
      ]
     },
     "execution_count": 13,
     "metadata": {},
     "output_type": "execute_result"
    }
   ],
   "source": [
    "test_df.store.value_counts()"
   ]
  },
  {
   "cell_type": "code",
   "execution_count": 14,
   "id": "2499c471",
   "metadata": {
    "execution": {
     "iopub.execute_input": "2022-01-03T10:07:47.098092Z",
     "iopub.status.busy": "2022-01-03T10:07:47.097456Z",
     "iopub.status.idle": "2022-01-03T10:07:47.101374Z",
     "shell.execute_reply": "2022-01-03T10:07:47.101953Z",
     "shell.execute_reply.started": "2022-01-03T10:06:45.140797Z"
    },
    "papermill": {
     "duration": 0.059995,
     "end_time": "2022-01-03T10:07:47.102098",
     "exception": false,
     "start_time": "2022-01-03T10:07:47.042103",
     "status": "completed"
    },
    "tags": []
   },
   "outputs": [
    {
     "data": {
      "text/plain": [
       "2016    6588\n",
       "2015    6570\n",
       "2017    6570\n",
       "2018    6570\n",
       "Name: year, dtype: int64"
      ]
     },
     "execution_count": 14,
     "metadata": {},
     "output_type": "execute_result"
    }
   ],
   "source": [
    "train_df.year.value_counts()"
   ]
  },
  {
   "cell_type": "code",
   "execution_count": 15,
   "id": "5a86120c",
   "metadata": {
    "execution": {
     "iopub.execute_input": "2022-01-03T10:07:47.203071Z",
     "iopub.status.busy": "2022-01-03T10:07:47.202491Z",
     "iopub.status.idle": "2022-01-03T10:07:47.208151Z",
     "shell.execute_reply": "2022-01-03T10:07:47.208649Z",
     "shell.execute_reply.started": "2022-01-03T10:06:45.155586Z"
    },
    "papermill": {
     "duration": 0.058051,
     "end_time": "2022-01-03T10:07:47.208801",
     "exception": false,
     "start_time": "2022-01-03T10:07:47.150750",
     "status": "completed"
    },
    "tags": []
   },
   "outputs": [
    {
     "data": {
      "text/plain": [
       "2019    6570\n",
       "Name: year, dtype: int64"
      ]
     },
     "execution_count": 15,
     "metadata": {},
     "output_type": "execute_result"
    }
   ],
   "source": [
    "test_df.year.value_counts()"
   ]
  },
  {
   "cell_type": "code",
   "execution_count": 16,
   "id": "766e52b3",
   "metadata": {
    "execution": {
     "iopub.execute_input": "2022-01-03T10:07:47.310380Z",
     "iopub.status.busy": "2022-01-03T10:07:47.309822Z",
     "iopub.status.idle": "2022-01-03T10:07:47.315360Z",
     "shell.execute_reply": "2022-01-03T10:07:47.315954Z",
     "shell.execute_reply.started": "2022-01-03T10:06:45.168426Z"
    },
    "papermill": {
     "duration": 0.058301,
     "end_time": "2022-01-03T10:07:47.316111",
     "exception": false,
     "start_time": "2022-01-03T10:07:47.257810",
     "status": "completed"
    },
    "tags": []
   },
   "outputs": [
    {
     "data": {
      "text/plain": [
       "1     2232\n",
       "3     2232\n",
       "5     2232\n",
       "7     2232\n",
       "8     2232\n",
       "10    2232\n",
       "12    2232\n",
       "4     2160\n",
       "6     2160\n",
       "9     2160\n",
       "11    2160\n",
       "2     2034\n",
       "Name: month, dtype: int64"
      ]
     },
     "execution_count": 16,
     "metadata": {},
     "output_type": "execute_result"
    }
   ],
   "source": [
    "train_df.month.value_counts()"
   ]
  },
  {
   "cell_type": "code",
   "execution_count": 17,
   "id": "8b20e941",
   "metadata": {
    "execution": {
     "iopub.execute_input": "2022-01-03T10:07:47.419347Z",
     "iopub.status.busy": "2022-01-03T10:07:47.417878Z",
     "iopub.status.idle": "2022-01-03T10:07:47.425213Z",
     "shell.execute_reply": "2022-01-03T10:07:47.425709Z",
     "shell.execute_reply.started": "2022-01-03T10:06:45.182274Z"
    },
    "papermill": {
     "duration": 0.060115,
     "end_time": "2022-01-03T10:07:47.425849",
     "exception": false,
     "start_time": "2022-01-03T10:07:47.365734",
     "status": "completed"
    },
    "tags": []
   },
   "outputs": [
    {
     "data": {
      "text/plain": [
       "1     558\n",
       "3     558\n",
       "5     558\n",
       "7     558\n",
       "8     558\n",
       "10    558\n",
       "12    558\n",
       "4     540\n",
       "6     540\n",
       "9     540\n",
       "11    540\n",
       "2     504\n",
       "Name: month, dtype: int64"
      ]
     },
     "execution_count": 17,
     "metadata": {},
     "output_type": "execute_result"
    }
   ],
   "source": [
    "test_df.month.value_counts()"
   ]
  },
  {
   "cell_type": "code",
   "execution_count": 18,
   "id": "cea43f5c",
   "metadata": {
    "execution": {
     "iopub.execute_input": "2022-01-03T10:07:47.527295Z",
     "iopub.status.busy": "2022-01-03T10:07:47.526494Z",
     "iopub.status.idle": "2022-01-03T10:07:47.532958Z",
     "shell.execute_reply": "2022-01-03T10:07:47.533418Z",
     "shell.execute_reply.started": "2022-01-03T10:06:45.198220Z"
    },
    "papermill": {
     "duration": 0.059215,
     "end_time": "2022-01-03T10:07:47.533566",
     "exception": false,
     "start_time": "2022-01-03T10:07:47.474351",
     "status": "completed"
    },
    "tags": []
   },
   "outputs": [
    {
     "data": {
      "text/plain": [
       "1     864\n",
       "2     864\n",
       "28    864\n",
       "27    864\n",
       "26    864\n",
       "25    864\n",
       "24    864\n",
       "23    864\n",
       "22    864\n",
       "21    864\n",
       "20    864\n",
       "19    864\n",
       "18    864\n",
       "17    864\n",
       "16    864\n",
       "15    864\n",
       "14    864\n",
       "13    864\n",
       "12    864\n",
       "11    864\n",
       "10    864\n",
       "9     864\n",
       "8     864\n",
       "7     864\n",
       "6     864\n",
       "5     864\n",
       "4     864\n",
       "3     864\n",
       "29    810\n",
       "30    792\n",
       "31    504\n",
       "Name: day, dtype: int64"
      ]
     },
     "execution_count": 18,
     "metadata": {},
     "output_type": "execute_result"
    }
   ],
   "source": [
    "train_df.day.value_counts()"
   ]
  },
  {
   "cell_type": "code",
   "execution_count": 19,
   "id": "54c7ff89",
   "metadata": {
    "execution": {
     "iopub.execute_input": "2022-01-03T10:07:47.639437Z",
     "iopub.status.busy": "2022-01-03T10:07:47.638609Z",
     "iopub.status.idle": "2022-01-03T10:07:47.645353Z",
     "shell.execute_reply": "2022-01-03T10:07:47.645828Z",
     "shell.execute_reply.started": "2022-01-03T10:06:45.213543Z"
    },
    "papermill": {
     "duration": 0.061583,
     "end_time": "2022-01-03T10:07:47.645975",
     "exception": false,
     "start_time": "2022-01-03T10:07:47.584392",
     "status": "completed"
    },
    "tags": []
   },
   "outputs": [
    {
     "data": {
      "text/plain": [
       "1     216\n",
       "2     216\n",
       "28    216\n",
       "27    216\n",
       "26    216\n",
       "25    216\n",
       "24    216\n",
       "23    216\n",
       "22    216\n",
       "21    216\n",
       "20    216\n",
       "19    216\n",
       "18    216\n",
       "17    216\n",
       "16    216\n",
       "15    216\n",
       "14    216\n",
       "13    216\n",
       "12    216\n",
       "11    216\n",
       "10    216\n",
       "9     216\n",
       "8     216\n",
       "7     216\n",
       "6     216\n",
       "5     216\n",
       "4     216\n",
       "3     216\n",
       "29    198\n",
       "30    198\n",
       "31    126\n",
       "Name: day, dtype: int64"
      ]
     },
     "execution_count": 19,
     "metadata": {},
     "output_type": "execute_result"
    }
   ],
   "source": [
    "test_df.day.value_counts()"
   ]
  },
  {
   "cell_type": "code",
   "execution_count": 20,
   "id": "8d08e35a",
   "metadata": {
    "execution": {
     "iopub.execute_input": "2022-01-03T10:07:47.751480Z",
     "iopub.status.busy": "2022-01-03T10:07:47.750611Z",
     "iopub.status.idle": "2022-01-03T10:07:47.759686Z",
     "shell.execute_reply": "2022-01-03T10:07:47.760250Z",
     "shell.execute_reply.started": "2022-01-03T10:06:45.225897Z"
    },
    "papermill": {
     "duration": 0.06229,
     "end_time": "2022-01-03T10:07:47.760393",
     "exception": false,
     "start_time": "2022-01-03T10:07:47.698103",
     "status": "completed"
    },
    "tags": []
   },
   "outputs": [
    {
     "data": {
      "text/plain": [
       "Kaggle Mug        8766\n",
       "Kaggle Hat        8766\n",
       "Kaggle Sticker    8766\n",
       "Name: product, dtype: int64"
      ]
     },
     "execution_count": 20,
     "metadata": {},
     "output_type": "execute_result"
    }
   ],
   "source": [
    "train_df['product'].value_counts()"
   ]
  },
  {
   "cell_type": "code",
   "execution_count": 21,
   "id": "854f50ba",
   "metadata": {
    "execution": {
     "iopub.execute_input": "2022-01-03T10:07:47.872111Z",
     "iopub.status.busy": "2022-01-03T10:07:47.867619Z",
     "iopub.status.idle": "2022-01-03T10:07:47.874475Z",
     "shell.execute_reply": "2022-01-03T10:07:47.874919Z",
     "shell.execute_reply.started": "2022-01-03T10:06:45.239894Z"
    },
    "papermill": {
     "duration": 0.063801,
     "end_time": "2022-01-03T10:07:47.875074",
     "exception": false,
     "start_time": "2022-01-03T10:07:47.811273",
     "status": "completed"
    },
    "tags": []
   },
   "outputs": [
    {
     "data": {
      "text/plain": [
       "Kaggle Mug        2190\n",
       "Kaggle Hat        2190\n",
       "Kaggle Sticker    2190\n",
       "Name: product, dtype: int64"
      ]
     },
     "execution_count": 21,
     "metadata": {},
     "output_type": "execute_result"
    }
   ],
   "source": [
    "test_df['product'].value_counts()"
   ]
  },
  {
   "cell_type": "markdown",
   "id": "3f94183e",
   "metadata": {
    "papermill": {
     "duration": 0.050798,
     "end_time": "2022-01-03T10:07:47.979765",
     "exception": false,
     "start_time": "2022-01-03T10:07:47.928967",
     "status": "completed"
    },
    "tags": []
   },
   "source": [
    "### EDA : Exploratory Data Analysis\n",
    "\n",
    "Now checking through some inter-feature covariance ."
   ]
  },
  {
   "cell_type": "code",
   "execution_count": 22,
   "id": "f3aef034",
   "metadata": {
    "execution": {
     "iopub.execute_input": "2022-01-03T10:07:48.083926Z",
     "iopub.status.busy": "2022-01-03T10:07:48.083320Z",
     "iopub.status.idle": "2022-01-03T10:07:49.072739Z",
     "shell.execute_reply": "2022-01-03T10:07:49.072226Z",
     "shell.execute_reply.started": "2022-01-03T10:06:45.257898Z"
    },
    "papermill": {
     "duration": 1.042458,
     "end_time": "2022-01-03T10:07:49.072896",
     "exception": false,
     "start_time": "2022-01-03T10:07:48.030438",
     "status": "completed"
    },
    "tags": []
   },
   "outputs": [],
   "source": [
    "import matplotlib.pyplot as plt\n",
    "import seaborn as sns"
   ]
  },
  {
   "cell_type": "code",
   "execution_count": 23,
   "id": "b28a0a5f",
   "metadata": {
    "execution": {
     "iopub.execute_input": "2022-01-03T10:07:49.182002Z",
     "iopub.status.busy": "2022-01-03T10:07:49.181412Z",
     "iopub.status.idle": "2022-01-03T10:07:49.966096Z",
     "shell.execute_reply": "2022-01-03T10:07:49.965576Z",
     "shell.execute_reply.started": "2022-01-03T10:06:46.300425Z"
    },
    "papermill": {
     "duration": 0.841024,
     "end_time": "2022-01-03T10:07:49.966226",
     "exception": false,
     "start_time": "2022-01-03T10:07:49.125202",
     "status": "completed"
    },
    "tags": []
   },
   "outputs": [
    {
     "data": {
      "image/png": "[encoded data removed]",
      "text/plain": [
       "<Figure size 432x288 with 1 Axes>"
      ]
     },
     "metadata": {
      "needs_background": "light"
     },
     "output_type": "display_data"
    }
   ],
   "source": [
    "# Checking the number of sold products by their respective year.\n",
    "\n",
    "sns.lineplot(x = 'year', y = 'num_sold', hue = 'product', data = train_df)\n",
    "plt.show()"
   ]
  },
  {
   "cell_type": "markdown",
   "id": "8b81865d",
   "metadata": {
    "papermill": {
     "duration": 0.051616,
     "end_time": "2022-01-03T10:07:50.072559",
     "exception": false,
     "start_time": "2022-01-03T10:07:50.020943",
     "status": "completed"
    },
    "tags": []
   },
   "source": [
    "We can see num_sold increase slightly with year."
   ]
  },
  {
   "cell_type": "code",
   "execution_count": 24,
   "id": "a42187ce",
   "metadata": {
    "execution": {
     "iopub.execute_input": "2022-01-03T10:07:50.188281Z",
     "iopub.status.busy": "2022-01-03T10:07:50.187068Z",
     "iopub.status.idle": "2022-01-03T10:07:51.937929Z",
     "shell.execute_reply": "2022-01-03T10:07:51.938421Z",
     "shell.execute_reply.started": "2022-01-03T10:06:47.170142Z"
    },
    "papermill": {
     "duration": 1.810866,
     "end_time": "2022-01-03T10:07:51.938579",
     "exception": false,
     "start_time": "2022-01-03T10:07:50.127713",
     "status": "completed"
    },
    "tags": []
   },
   "outputs": [
    {
     "data": {
      "image/png": "[encoded data removed]",
      "text/plain": [
       "<Figure size 432x288 with 1 Axes>"
      ]
     },
     "metadata": {
      "needs_background": "light"
     },
     "output_type": "display_data"
    }
   ],
   "source": [
    "# Checking the number of sold products by their respective month.\n",
    "\n",
    "sns.lineplot(x = 'month', y = 'num_sold', hue = 'year', data = train_df)\n",
    "plt.show()"
   ]
  },
  {
   "cell_type": "code",
   "execution_count": 25,
   "id": "c6322468",
   "metadata": {
    "execution": {
     "iopub.execute_input": "2022-01-03T10:07:52.056746Z",
     "iopub.status.busy": "2022-01-03T10:07:52.056134Z",
     "iopub.status.idle": "2022-01-03T10:07:54.207913Z",
     "shell.execute_reply": "2022-01-03T10:07:54.208372Z",
     "shell.execute_reply.started": "2022-01-03T10:06:49.052908Z"
    },
    "papermill": {
     "duration": 2.212976,
     "end_time": "2022-01-03T10:07:54.208529",
     "exception": false,
     "start_time": "2022-01-03T10:07:51.995553",
     "status": "completed"
    },
    "tags": []
   },
   "outputs": [
    {
     "data": {
      "image/png": "[encoded data removed]",
      "text/plain": [
       "<Figure size 1440x432 with 1 Axes>"
      ]
     },
     "metadata": {
      "needs_background": "light"
     },
     "output_type": "display_data"
    }
   ],
   "source": [
    "# Checking the number of sold products per month through years.\n",
    "\n",
    "plt.figure(figsize = (20, 6))\n",
    "sns.barplot(x = 'month', y = 'num_sold', hue = 'year', data = train_df)\n",
    "plt.show()"
   ]
  },
  {
   "cell_type": "code",
   "execution_count": 26,
   "id": "1611b77e",
   "metadata": {
    "execution": {
     "iopub.execute_input": "2022-01-03T10:07:54.326278Z",
     "iopub.status.busy": "2022-01-03T10:07:54.325683Z",
     "iopub.status.idle": "2022-01-03T10:07:59.288300Z",
     "shell.execute_reply": "2022-01-03T10:07:59.287724Z",
     "shell.execute_reply.started": "2022-01-03T10:06:51.370485Z"
    },
    "papermill": {
     "duration": 5.021546,
     "end_time": "2022-01-03T10:07:59.288519",
     "exception": false,
     "start_time": "2022-01-03T10:07:54.266973",
     "status": "completed"
    },
    "tags": []
   },
   "outputs": [
    {
     "data": {
      "image/png": "[encoded data removed]",
      "text/plain": [
       "<Figure size 1440x432 with 1 Axes>"
      ]
     },
     "metadata": {
      "needs_background": "light"
     },
     "output_type": "display_data"
    }
   ],
   "source": [
    "# Checking the number of sold products per mdate through years.\n",
    "\n",
    "plt.figure(figsize = (20, 6))\n",
    "sns.barplot(x = 'day', y = 'num_sold', hue = 'year', data = train_df)\n",
    "plt.show()"
   ]
  },
  {
   "cell_type": "code",
   "execution_count": 27,
   "id": "adb004e6",
   "metadata": {
    "execution": {
     "iopub.execute_input": "2022-01-03T10:07:59.400255Z",
     "iopub.status.busy": "2022-01-03T10:07:59.399695Z",
     "iopub.status.idle": "2022-01-03T10:08:03.485442Z",
     "shell.execute_reply": "2022-01-03T10:08:03.485861Z",
     "shell.execute_reply.started": "2022-01-03T10:06:56.819113Z"
    },
    "papermill": {
     "duration": 4.143068,
     "end_time": "2022-01-03T10:08:03.486027",
     "exception": false,
     "start_time": "2022-01-03T10:07:59.342959",
     "status": "completed"
    },
    "tags": []
   },
   "outputs": [
    {
     "data": {
      "image/png": "[encoded data removed]",
      "text/plain": [
       "<Figure size 1440x432 with 1 Axes>"
      ]
     },
     "metadata": {
      "needs_background": "light"
     },
     "output_type": "display_data"
    }
   ],
   "source": [
    "plt.figure(figsize = (20, 6))\n",
    "sns.lineplot(x = 'year', y = 'num_sold', hue = 'day', data = train_df)\n",
    "plt.show()"
   ]
  },
  {
   "cell_type": "code",
   "execution_count": 28,
   "id": "50d3b72b",
   "metadata": {
    "execution": {
     "iopub.execute_input": "2022-01-03T10:08:03.614955Z",
     "iopub.status.busy": "2022-01-03T10:08:03.614369Z",
     "iopub.status.idle": "2022-01-03T10:08:03.616901Z",
     "shell.execute_reply": "2022-01-03T10:08:03.617322Z",
     "shell.execute_reply.started": "2022-01-03T10:07:01.286051Z"
    },
    "papermill": {
     "duration": 0.071978,
     "end_time": "2022-01-03T10:08:03.617464",
     "exception": false,
     "start_time": "2022-01-03T10:08:03.545486",
     "status": "completed"
    },
    "tags": []
   },
   "outputs": [
    {
     "data": {
      "text/html": [
       "<div>\n",
       "<style scoped>\n",
       "    .dataframe tbody tr th:only-of-type {\n",
       "        vertical-align: middle;\n",
       "    }\n",
       "\n",
       "    .dataframe tbody tr th {\n",
       "        vertical-align: top;\n",
       "    }\n",
       "\n",
       "    .dataframe thead th {\n",
       "        text-align: right;\n",
       "    }\n",
       "</style>\n",
       "<table border=\"1\" class=\"dataframe\">\n",
       "  <thead>\n",
       "    <tr style=\"text-align: right;\">\n",
       "      <th></th>\n",
       "      <th>row_id</th>\n",
       "      <th>country</th>\n",
       "      <th>store</th>\n",
       "      <th>product</th>\n",
       "      <th>num_sold</th>\n",
       "      <th>year</th>\n",
       "      <th>month</th>\n",
       "      <th>day</th>\n",
       "    </tr>\n",
       "  </thead>\n",
       "  <tbody>\n",
       "    <tr>\n",
       "      <th>0</th>\n",
       "      <td>0</td>\n",
       "      <td>Finland</td>\n",
       "      <td>KaggleMart</td>\n",
       "      <td>Kaggle Mug</td>\n",
       "      <td>329</td>\n",
       "      <td>2015</td>\n",
       "      <td>1</td>\n",
       "      <td>1</td>\n",
       "    </tr>\n",
       "    <tr>\n",
       "      <th>1</th>\n",
       "      <td>1</td>\n",
       "      <td>Finland</td>\n",
       "      <td>KaggleMart</td>\n",
       "      <td>Kaggle Hat</td>\n",
       "      <td>520</td>\n",
       "      <td>2015</td>\n",
       "      <td>1</td>\n",
       "      <td>1</td>\n",
       "    </tr>\n",
       "    <tr>\n",
       "      <th>2</th>\n",
       "      <td>2</td>\n",
       "      <td>Finland</td>\n",
       "      <td>KaggleMart</td>\n",
       "      <td>Kaggle Sticker</td>\n",
       "      <td>146</td>\n",
       "      <td>2015</td>\n",
       "      <td>1</td>\n",
       "      <td>1</td>\n",
       "    </tr>\n",
       "    <tr>\n",
       "      <th>3</th>\n",
       "      <td>3</td>\n",
       "      <td>Finland</td>\n",
       "      <td>KaggleRama</td>\n",
       "      <td>Kaggle Mug</td>\n",
       "      <td>572</td>\n",
       "      <td>2015</td>\n",
       "      <td>1</td>\n",
       "      <td>1</td>\n",
       "    </tr>\n",
       "    <tr>\n",
       "      <th>4</th>\n",
       "      <td>4</td>\n",
       "      <td>Finland</td>\n",
       "      <td>KaggleRama</td>\n",
       "      <td>Kaggle Hat</td>\n",
       "      <td>911</td>\n",
       "      <td>2015</td>\n",
       "      <td>1</td>\n",
       "      <td>1</td>\n",
       "    </tr>\n",
       "  </tbody>\n",
       "</table>\n",
       "</div>"
      ],
      "text/plain": [
       "   row_id  country       store         product  num_sold  year  month  day\n",
       "0       0  Finland  KaggleMart      Kaggle Mug       329  2015      1    1\n",
       "1       1  Finland  KaggleMart      Kaggle Hat       520  2015      1    1\n",
       "2       2  Finland  KaggleMart  Kaggle Sticker       146  2015      1    1\n",
       "3       3  Finland  KaggleRama      Kaggle Mug       572  2015      1    1\n",
       "4       4  Finland  KaggleRama      Kaggle Hat       911  2015      1    1"
      ]
     },
     "execution_count": 28,
     "metadata": {},
     "output_type": "execute_result"
    }
   ],
   "source": [
    "train_df.head()"
   ]
  },
  {
   "cell_type": "markdown",
   "id": "0f7e8a22",
   "metadata": {
    "papermill": {
     "duration": 0.064499,
     "end_time": "2022-01-03T10:08:03.740836",
     "exception": false,
     "start_time": "2022-01-03T10:08:03.676337",
     "status": "completed"
    },
    "tags": []
   },
   "source": [
    "As we've checked the feature, now it's time to encode the categorical features. In this sceanrio, the categorical features have a uniform distribution of less common unqiue labels, that's why I've used one hot encoding which can be a great tool to prepare the data more accurately."
   ]
  },
  {
   "cell_type": "code",
   "execution_count": 29,
   "id": "028ab88b",
   "metadata": {
    "execution": {
     "iopub.execute_input": "2022-01-03T10:08:03.870309Z",
     "iopub.status.busy": "2022-01-03T10:08:03.869670Z",
     "iopub.status.idle": "2022-01-03T10:08:03.989676Z",
     "shell.execute_reply": "2022-01-03T10:08:03.989120Z",
     "shell.execute_reply.started": "2022-01-03T10:07:01.301961Z"
    },
    "papermill": {
     "duration": 0.183588,
     "end_time": "2022-01-03T10:08:03.989814",
     "exception": false,
     "start_time": "2022-01-03T10:08:03.806226",
     "status": "completed"
    },
    "tags": []
   },
   "outputs": [],
   "source": [
    "from sklearn.preprocessing import LabelEncoder"
   ]
  },
  {
   "cell_type": "code",
   "execution_count": 30,
   "id": "73b668c9",
   "metadata": {
    "execution": {
     "iopub.execute_input": "2022-01-03T10:08:04.119015Z",
     "iopub.status.busy": "2022-01-03T10:08:04.118427Z",
     "iopub.status.idle": "2022-01-03T10:08:04.143563Z",
     "shell.execute_reply": "2022-01-03T10:08:04.143086Z",
     "shell.execute_reply.started": "2022-01-03T10:07:01.449491Z"
    },
    "papermill": {
     "duration": 0.094612,
     "end_time": "2022-01-03T10:08:04.143696",
     "exception": false,
     "start_time": "2022-01-03T10:08:04.049084",
     "status": "completed"
    },
    "tags": []
   },
   "outputs": [],
   "source": [
    "# One Hot Encoding\n",
    "\n",
    "train = train_df.copy()\n",
    "test = test_df.copy()\n",
    "\n",
    "\n",
    "for feature in test.columns:\n",
    "    if test[feature].dtype == 'object':\n",
    "        train_feature_data = train[feature]\n",
    "        train_encoded_feature = pd.get_dummies(train_feature_data)\n",
    "        train.drop(feature, 1, inplace = True)\n",
    "        train = pd.concat([train, train_encoded_feature], axis = 1)\n",
    "        \n",
    "        test_feature_data = test[feature]\n",
    "        test_encoded_feature = pd.get_dummies(test_feature_data)\n",
    "        test.drop(feature, 1, inplace = True)\n",
    "        test = pd.concat([test, test_encoded_feature], axis = 1)"
   ]
  },
  {
   "cell_type": "code",
   "execution_count": 31,
   "id": "dbc343f0",
   "metadata": {
    "execution": {
     "iopub.execute_input": "2022-01-03T10:08:04.272962Z",
     "iopub.status.busy": "2022-01-03T10:08:04.268405Z",
     "iopub.status.idle": "2022-01-03T10:08:04.275398Z",
     "shell.execute_reply": "2022-01-03T10:08:04.275835Z",
     "shell.execute_reply.started": "2022-01-03T10:07:01.489681Z"
    },
    "papermill": {
     "duration": 0.072699,
     "end_time": "2022-01-03T10:08:04.276012",
     "exception": false,
     "start_time": "2022-01-03T10:08:04.203313",
     "status": "completed"
    },
    "tags": []
   },
   "outputs": [
    {
     "data": {
      "text/html": [
       "<div>\n",
       "<style scoped>\n",
       "    .dataframe tbody tr th:only-of-type {\n",
       "        vertical-align: middle;\n",
       "    }\n",
       "\n",
       "    .dataframe tbody tr th {\n",
       "        vertical-align: top;\n",
       "    }\n",
       "\n",
       "    .dataframe thead th {\n",
       "        text-align: right;\n",
       "    }\n",
       "</style>\n",
       "<table border=\"1\" class=\"dataframe\">\n",
       "  <thead>\n",
       "    <tr style=\"text-align: right;\">\n",
       "      <th></th>\n",
       "      <th>row_id</th>\n",
       "      <th>num_sold</th>\n",
       "      <th>year</th>\n",
       "      <th>month</th>\n",
       "      <th>day</th>\n",
       "      <th>Finland</th>\n",
       "      <th>Norway</th>\n",
       "      <th>Sweden</th>\n",
       "      <th>KaggleMart</th>\n",
       "      <th>KaggleRama</th>\n",
       "      <th>Kaggle Hat</th>\n",
       "      <th>Kaggle Mug</th>\n",
       "      <th>Kaggle Sticker</th>\n",
       "    </tr>\n",
       "  </thead>\n",
       "  <tbody>\n",
       "    <tr>\n",
       "      <th>0</th>\n",
       "      <td>0</td>\n",
       "      <td>329</td>\n",
       "      <td>2015</td>\n",
       "      <td>1</td>\n",
       "      <td>1</td>\n",
       "      <td>1</td>\n",
       "      <td>0</td>\n",
       "      <td>0</td>\n",
       "      <td>1</td>\n",
       "      <td>0</td>\n",
       "      <td>0</td>\n",
       "      <td>1</td>\n",
       "      <td>0</td>\n",
       "    </tr>\n",
       "    <tr>\n",
       "      <th>1</th>\n",
       "      <td>1</td>\n",
       "      <td>520</td>\n",
       "      <td>2015</td>\n",
       "      <td>1</td>\n",
       "      <td>1</td>\n",
       "      <td>1</td>\n",
       "      <td>0</td>\n",
       "      <td>0</td>\n",
       "      <td>1</td>\n",
       "      <td>0</td>\n",
       "      <td>1</td>\n",
       "      <td>0</td>\n",
       "      <td>0</td>\n",
       "    </tr>\n",
       "    <tr>\n",
       "      <th>2</th>\n",
       "      <td>2</td>\n",
       "      <td>146</td>\n",
       "      <td>2015</td>\n",
       "      <td>1</td>\n",
       "      <td>1</td>\n",
       "      <td>1</td>\n",
       "      <td>0</td>\n",
       "      <td>0</td>\n",
       "      <td>1</td>\n",
       "      <td>0</td>\n",
       "      <td>0</td>\n",
       "      <td>0</td>\n",
       "      <td>1</td>\n",
       "    </tr>\n",
       "    <tr>\n",
       "      <th>3</th>\n",
       "      <td>3</td>\n",
       "      <td>572</td>\n",
       "      <td>2015</td>\n",
       "      <td>1</td>\n",
       "      <td>1</td>\n",
       "      <td>1</td>\n",
       "      <td>0</td>\n",
       "      <td>0</td>\n",
       "      <td>0</td>\n",
       "      <td>1</td>\n",
       "      <td>0</td>\n",
       "      <td>1</td>\n",
       "      <td>0</td>\n",
       "    </tr>\n",
       "    <tr>\n",
       "      <th>4</th>\n",
       "      <td>4</td>\n",
       "      <td>911</td>\n",
       "      <td>2015</td>\n",
       "      <td>1</td>\n",
       "      <td>1</td>\n",
       "      <td>1</td>\n",
       "      <td>0</td>\n",
       "      <td>0</td>\n",
       "      <td>0</td>\n",
       "      <td>1</td>\n",
       "      <td>1</td>\n",
       "      <td>0</td>\n",
       "      <td>0</td>\n",
       "    </tr>\n",
       "  </tbody>\n",
       "</table>\n",
       "</div>"
      ],
      "text/plain": [
       "   row_id  num_sold  year  month  day  Finland  Norway  Sweden  KaggleMart  \\\n",
       "0       0       329  2015      1    1        1       0       0           1   \n",
       "1       1       520  2015      1    1        1       0       0           1   \n",
       "2       2       146  2015      1    1        1       0       0           1   \n",
       "3       3       572  2015      1    1        1       0       0           0   \n",
       "4       4       911  2015      1    1        1       0       0           0   \n",
       "\n",
       "   KaggleRama  Kaggle Hat  Kaggle Mug  Kaggle Sticker  \n",
       "0           0           0           1               0  \n",
       "1           0           1           0               0  \n",
       "2           0           0           0               1  \n",
       "3           1           0           1               0  \n",
       "4           1           1           0               0  "
      ]
     },
     "execution_count": 31,
     "metadata": {},
     "output_type": "execute_result"
    }
   ],
   "source": [
    "train.head()"
   ]
  },
  {
   "cell_type": "code",
   "execution_count": 32,
   "id": "14cf2203",
   "metadata": {
    "execution": {
     "iopub.execute_input": "2022-01-03T10:08:04.399383Z",
     "iopub.status.busy": "2022-01-03T10:08:04.398794Z",
     "iopub.status.idle": "2022-01-03T10:08:04.409369Z",
     "shell.execute_reply": "2022-01-03T10:08:04.410139Z",
     "shell.execute_reply.started": "2022-01-03T10:07:01.505138Z"
    },
    "papermill": {
     "duration": 0.074381,
     "end_time": "2022-01-03T10:08:04.410299",
     "exception": false,
     "start_time": "2022-01-03T10:08:04.335918",
     "status": "completed"
    },
    "tags": []
   },
   "outputs": [
    {
     "data": {
      "text/html": [
       "<div>\n",
       "<style scoped>\n",
       "    .dataframe tbody tr th:only-of-type {\n",
       "        vertical-align: middle;\n",
       "    }\n",
       "\n",
       "    .dataframe tbody tr th {\n",
       "        vertical-align: top;\n",
       "    }\n",
       "\n",
       "    .dataframe thead th {\n",
       "        text-align: right;\n",
       "    }\n",
       "</style>\n",
       "<table border=\"1\" class=\"dataframe\">\n",
       "  <thead>\n",
       "    <tr style=\"text-align: right;\">\n",
       "      <th></th>\n",
       "      <th>row_id</th>\n",
       "      <th>year</th>\n",
       "      <th>month</th>\n",
       "      <th>day</th>\n",
       "      <th>Finland</th>\n",
       "      <th>Norway</th>\n",
       "      <th>Sweden</th>\n",
       "      <th>KaggleMart</th>\n",
       "      <th>KaggleRama</th>\n",
       "      <th>Kaggle Hat</th>\n",
       "      <th>Kaggle Mug</th>\n",
       "      <th>Kaggle Sticker</th>\n",
       "    </tr>\n",
       "  </thead>\n",
       "  <tbody>\n",
       "    <tr>\n",
       "      <th>0</th>\n",
       "      <td>26298</td>\n",
       "      <td>2019</td>\n",
       "      <td>1</td>\n",
       "      <td>1</td>\n",
       "      <td>1</td>\n",
       "      <td>0</td>\n",
       "      <td>0</td>\n",
       "      <td>1</td>\n",
       "      <td>0</td>\n",
       "      <td>0</td>\n",
       "      <td>1</td>\n",
       "      <td>0</td>\n",
       "    </tr>\n",
       "    <tr>\n",
       "      <th>1</th>\n",
       "      <td>26299</td>\n",
       "      <td>2019</td>\n",
       "      <td>1</td>\n",
       "      <td>1</td>\n",
       "      <td>1</td>\n",
       "      <td>0</td>\n",
       "      <td>0</td>\n",
       "      <td>1</td>\n",
       "      <td>0</td>\n",
       "      <td>1</td>\n",
       "      <td>0</td>\n",
       "      <td>0</td>\n",
       "    </tr>\n",
       "    <tr>\n",
       "      <th>2</th>\n",
       "      <td>26300</td>\n",
       "      <td>2019</td>\n",
       "      <td>1</td>\n",
       "      <td>1</td>\n",
       "      <td>1</td>\n",
       "      <td>0</td>\n",
       "      <td>0</td>\n",
       "      <td>1</td>\n",
       "      <td>0</td>\n",
       "      <td>0</td>\n",
       "      <td>0</td>\n",
       "      <td>1</td>\n",
       "    </tr>\n",
       "    <tr>\n",
       "      <th>3</th>\n",
       "      <td>26301</td>\n",
       "      <td>2019</td>\n",
       "      <td>1</td>\n",
       "      <td>1</td>\n",
       "      <td>1</td>\n",
       "      <td>0</td>\n",
       "      <td>0</td>\n",
       "      <td>0</td>\n",
       "      <td>1</td>\n",
       "      <td>0</td>\n",
       "      <td>1</td>\n",
       "      <td>0</td>\n",
       "    </tr>\n",
       "    <tr>\n",
       "      <th>4</th>\n",
       "      <td>26302</td>\n",
       "      <td>2019</td>\n",
       "      <td>1</td>\n",
       "      <td>1</td>\n",
       "      <td>1</td>\n",
       "      <td>0</td>\n",
       "      <td>0</td>\n",
       "      <td>0</td>\n",
       "      <td>1</td>\n",
       "      <td>1</td>\n",
       "      <td>0</td>\n",
       "      <td>0</td>\n",
       "    </tr>\n",
       "  </tbody>\n",
       "</table>\n",
       "</div>"
      ],
      "text/plain": [
       "   row_id  year  month  day  Finland  Norway  Sweden  KaggleMart  KaggleRama  \\\n",
       "0   26298  2019      1    1        1       0       0           1           0   \n",
       "1   26299  2019      1    1        1       0       0           1           0   \n",
       "2   26300  2019      1    1        1       0       0           1           0   \n",
       "3   26301  2019      1    1        1       0       0           0           1   \n",
       "4   26302  2019      1    1        1       0       0           0           1   \n",
       "\n",
       "   Kaggle Hat  Kaggle Mug  Kaggle Sticker  \n",
       "0           0           1               0  \n",
       "1           1           0               0  \n",
       "2           0           0               1  \n",
       "3           0           1               0  \n",
       "4           1           0               0  "
      ]
     },
     "execution_count": 32,
     "metadata": {},
     "output_type": "execute_result"
    }
   ],
   "source": [
    "test.head()"
   ]
  },
  {
   "cell_type": "markdown",
   "id": "0a8d893e",
   "metadata": {
    "papermill": {
     "duration": 0.060293,
     "end_time": "2022-01-03T10:08:04.531990",
     "exception": false,
     "start_time": "2022-01-03T10:08:04.471697",
     "status": "completed"
    },
    "tags": []
   },
   "source": [
    "Now, scaling the year as if not it may give this feature too much importance."
   ]
  },
  {
   "cell_type": "code",
   "execution_count": 33,
   "id": "421198b3",
   "metadata": {
    "execution": {
     "iopub.execute_input": "2022-01-03T10:08:04.654315Z",
     "iopub.status.busy": "2022-01-03T10:08:04.653781Z",
     "iopub.status.idle": "2022-01-03T10:08:04.677556Z",
     "shell.execute_reply": "2022-01-03T10:08:04.677033Z",
     "shell.execute_reply.started": "2022-01-03T10:07:01.521480Z"
    },
    "papermill": {
     "duration": 0.084894,
     "end_time": "2022-01-03T10:08:04.677672",
     "exception": false,
     "start_time": "2022-01-03T10:08:04.592778",
     "status": "completed"
    },
    "tags": []
   },
   "outputs": [],
   "source": [
    "train.year = train.year.apply(lambda x : x - 2015)\n",
    "test.year = test.year.apply(lambda x : x - 2015)"
   ]
  },
  {
   "cell_type": "code",
   "execution_count": 34,
   "id": "d99eddf9",
   "metadata": {
    "execution": {
     "iopub.execute_input": "2022-01-03T10:08:04.811287Z",
     "iopub.status.busy": "2022-01-03T10:08:04.810721Z",
     "iopub.status.idle": "2022-01-03T10:08:04.812908Z",
     "shell.execute_reply": "2022-01-03T10:08:04.813409Z",
     "shell.execute_reply.started": "2022-01-03T10:07:01.556069Z"
    },
    "papermill": {
     "duration": 0.074374,
     "end_time": "2022-01-03T10:08:04.813566",
     "exception": false,
     "start_time": "2022-01-03T10:08:04.739192",
     "status": "completed"
    },
    "tags": []
   },
   "outputs": [
    {
     "data": {
      "text/html": [
       "<div>\n",
       "<style scoped>\n",
       "    .dataframe tbody tr th:only-of-type {\n",
       "        vertical-align: middle;\n",
       "    }\n",
       "\n",
       "    .dataframe tbody tr th {\n",
       "        vertical-align: top;\n",
       "    }\n",
       "\n",
       "    .dataframe thead th {\n",
       "        text-align: right;\n",
       "    }\n",
       "</style>\n",
       "<table border=\"1\" class=\"dataframe\">\n",
       "  <thead>\n",
       "    <tr style=\"text-align: right;\">\n",
       "      <th></th>\n",
       "      <th>row_id</th>\n",
       "      <th>num_sold</th>\n",
       "      <th>year</th>\n",
       "      <th>month</th>\n",
       "      <th>day</th>\n",
       "      <th>Finland</th>\n",
       "      <th>Norway</th>\n",
       "      <th>Sweden</th>\n",
       "      <th>KaggleMart</th>\n",
       "      <th>KaggleRama</th>\n",
       "      <th>Kaggle Hat</th>\n",
       "      <th>Kaggle Mug</th>\n",
       "      <th>Kaggle Sticker</th>\n",
       "    </tr>\n",
       "  </thead>\n",
       "  <tbody>\n",
       "    <tr>\n",
       "      <th>0</th>\n",
       "      <td>0</td>\n",
       "      <td>329</td>\n",
       "      <td>0</td>\n",
       "      <td>1</td>\n",
       "      <td>1</td>\n",
       "      <td>1</td>\n",
       "      <td>0</td>\n",
       "      <td>0</td>\n",
       "      <td>1</td>\n",
       "      <td>0</td>\n",
       "      <td>0</td>\n",
       "      <td>1</td>\n",
       "      <td>0</td>\n",
       "    </tr>\n",
       "    <tr>\n",
       "      <th>1</th>\n",
       "      <td>1</td>\n",
       "      <td>520</td>\n",
       "      <td>0</td>\n",
       "      <td>1</td>\n",
       "      <td>1</td>\n",
       "      <td>1</td>\n",
       "      <td>0</td>\n",
       "      <td>0</td>\n",
       "      <td>1</td>\n",
       "      <td>0</td>\n",
       "      <td>1</td>\n",
       "      <td>0</td>\n",
       "      <td>0</td>\n",
       "    </tr>\n",
       "    <tr>\n",
       "      <th>2</th>\n",
       "      <td>2</td>\n",
       "      <td>146</td>\n",
       "      <td>0</td>\n",
       "      <td>1</td>\n",
       "      <td>1</td>\n",
       "      <td>1</td>\n",
       "      <td>0</td>\n",
       "      <td>0</td>\n",
       "      <td>1</td>\n",
       "      <td>0</td>\n",
       "      <td>0</td>\n",
       "      <td>0</td>\n",
       "      <td>1</td>\n",
       "    </tr>\n",
       "    <tr>\n",
       "      <th>3</th>\n",
       "      <td>3</td>\n",
       "      <td>572</td>\n",
       "      <td>0</td>\n",
       "      <td>1</td>\n",
       "      <td>1</td>\n",
       "      <td>1</td>\n",
       "      <td>0</td>\n",
       "      <td>0</td>\n",
       "      <td>0</td>\n",
       "      <td>1</td>\n",
       "      <td>0</td>\n",
       "      <td>1</td>\n",
       "      <td>0</td>\n",
       "    </tr>\n",
       "    <tr>\n",
       "      <th>4</th>\n",
       "      <td>4</td>\n",
       "      <td>911</td>\n",
       "      <td>0</td>\n",
       "      <td>1</td>\n",
       "      <td>1</td>\n",
       "      <td>1</td>\n",
       "      <td>0</td>\n",
       "      <td>0</td>\n",
       "      <td>0</td>\n",
       "      <td>1</td>\n",
       "      <td>1</td>\n",
       "      <td>0</td>\n",
       "      <td>0</td>\n",
       "    </tr>\n",
       "  </tbody>\n",
       "</table>\n",
       "</div>"
      ],
      "text/plain": [
       "   row_id  num_sold  year  month  day  Finland  Norway  Sweden  KaggleMart  \\\n",
       "0       0       329     0      1    1        1       0       0           1   \n",
       "1       1       520     0      1    1        1       0       0           1   \n",
       "2       2       146     0      1    1        1       0       0           1   \n",
       "3       3       572     0      1    1        1       0       0           0   \n",
       "4       4       911     0      1    1        1       0       0           0   \n",
       "\n",
       "   KaggleRama  Kaggle Hat  Kaggle Mug  Kaggle Sticker  \n",
       "0           0           0           1               0  \n",
       "1           0           1           0               0  \n",
       "2           0           0           0               1  \n",
       "3           1           0           1               0  \n",
       "4           1           1           0               0  "
      ]
     },
     "execution_count": 34,
     "metadata": {},
     "output_type": "execute_result"
    }
   ],
   "source": [
    "train.head()"
   ]
  },
  {
   "cell_type": "code",
   "execution_count": 35,
   "id": "4c79ada7",
   "metadata": {
    "execution": {
     "iopub.execute_input": "2022-01-03T10:08:04.941446Z",
     "iopub.status.busy": "2022-01-03T10:08:04.940898Z",
     "iopub.status.idle": "2022-01-03T10:08:04.951087Z",
     "shell.execute_reply": "2022-01-03T10:08:04.951601Z",
     "shell.execute_reply.started": "2022-01-03T10:07:01.573678Z"
    },
    "papermill": {
     "duration": 0.075838,
     "end_time": "2022-01-03T10:08:04.951764",
     "exception": false,
     "start_time": "2022-01-03T10:08:04.875926",
     "status": "completed"
    },
    "tags": []
   },
   "outputs": [
    {
     "data": {
      "text/html": [
       "<div>\n",
       "<style scoped>\n",
       "    .dataframe tbody tr th:only-of-type {\n",
       "        vertical-align: middle;\n",
       "    }\n",
       "\n",
       "    .dataframe tbody tr th {\n",
       "        vertical-align: top;\n",
       "    }\n",
       "\n",
       "    .dataframe thead th {\n",
       "        text-align: right;\n",
       "    }\n",
       "</style>\n",
       "<table border=\"1\" class=\"dataframe\">\n",
       "  <thead>\n",
       "    <tr style=\"text-align: right;\">\n",
       "      <th></th>\n",
       "      <th>row_id</th>\n",
       "      <th>year</th>\n",
       "      <th>month</th>\n",
       "      <th>day</th>\n",
       "      <th>Finland</th>\n",
       "      <th>Norway</th>\n",
       "      <th>Sweden</th>\n",
       "      <th>KaggleMart</th>\n",
       "      <th>KaggleRama</th>\n",
       "      <th>Kaggle Hat</th>\n",
       "      <th>Kaggle Mug</th>\n",
       "      <th>Kaggle Sticker</th>\n",
       "    </tr>\n",
       "  </thead>\n",
       "  <tbody>\n",
       "    <tr>\n",
       "      <th>0</th>\n",
       "      <td>26298</td>\n",
       "      <td>4</td>\n",
       "      <td>1</td>\n",
       "      <td>1</td>\n",
       "      <td>1</td>\n",
       "      <td>0</td>\n",
       "      <td>0</td>\n",
       "      <td>1</td>\n",
       "      <td>0</td>\n",
       "      <td>0</td>\n",
       "      <td>1</td>\n",
       "      <td>0</td>\n",
       "    </tr>\n",
       "    <tr>\n",
       "      <th>1</th>\n",
       "      <td>26299</td>\n",
       "      <td>4</td>\n",
       "      <td>1</td>\n",
       "      <td>1</td>\n",
       "      <td>1</td>\n",
       "      <td>0</td>\n",
       "      <td>0</td>\n",
       "      <td>1</td>\n",
       "      <td>0</td>\n",
       "      <td>1</td>\n",
       "      <td>0</td>\n",
       "      <td>0</td>\n",
       "    </tr>\n",
       "    <tr>\n",
       "      <th>2</th>\n",
       "      <td>26300</td>\n",
       "      <td>4</td>\n",
       "      <td>1</td>\n",
       "      <td>1</td>\n",
       "      <td>1</td>\n",
       "      <td>0</td>\n",
       "      <td>0</td>\n",
       "      <td>1</td>\n",
       "      <td>0</td>\n",
       "      <td>0</td>\n",
       "      <td>0</td>\n",
       "      <td>1</td>\n",
       "    </tr>\n",
       "    <tr>\n",
       "      <th>3</th>\n",
       "      <td>26301</td>\n",
       "      <td>4</td>\n",
       "      <td>1</td>\n",
       "      <td>1</td>\n",
       "      <td>1</td>\n",
       "      <td>0</td>\n",
       "      <td>0</td>\n",
       "      <td>0</td>\n",
       "      <td>1</td>\n",
       "      <td>0</td>\n",
       "      <td>1</td>\n",
       "      <td>0</td>\n",
       "    </tr>\n",
       "    <tr>\n",
       "      <th>4</th>\n",
       "      <td>26302</td>\n",
       "      <td>4</td>\n",
       "      <td>1</td>\n",
       "      <td>1</td>\n",
       "      <td>1</td>\n",
       "      <td>0</td>\n",
       "      <td>0</td>\n",
       "      <td>0</td>\n",
       "      <td>1</td>\n",
       "      <td>1</td>\n",
       "      <td>0</td>\n",
       "      <td>0</td>\n",
       "    </tr>\n",
       "  </tbody>\n",
       "</table>\n",
       "</div>"
      ],
      "text/plain": [
       "   row_id  year  month  day  Finland  Norway  Sweden  KaggleMart  KaggleRama  \\\n",
       "0   26298     4      1    1        1       0       0           1           0   \n",
       "1   26299     4      1    1        1       0       0           1           0   \n",
       "2   26300     4      1    1        1       0       0           1           0   \n",
       "3   26301     4      1    1        1       0       0           0           1   \n",
       "4   26302     4      1    1        1       0       0           0           1   \n",
       "\n",
       "   Kaggle Hat  Kaggle Mug  Kaggle Sticker  \n",
       "0           0           1               0  \n",
       "1           1           0               0  \n",
       "2           0           0               1  \n",
       "3           0           1               0  \n",
       "4           1           0               0  "
      ]
     },
     "execution_count": 35,
     "metadata": {},
     "output_type": "execute_result"
    }
   ],
   "source": [
    "test.head()"
   ]
  },
  {
   "cell_type": "markdown",
   "id": "633c8c68",
   "metadata": {
    "papermill": {
     "duration": 0.059587,
     "end_time": "2022-01-03T10:08:05.073723",
     "exception": false,
     "start_time": "2022-01-03T10:08:05.014136",
     "status": "completed"
    },
    "tags": []
   },
   "source": [
    "Now, in this scenario we'll use 2 models which will be Regression models from XGB and RandomForest. and we'll blend the outputs of them to find the answers or the predictions."
   ]
  },
  {
   "cell_type": "code",
   "execution_count": 36,
   "id": "9c295220",
   "metadata": {
    "execution": {
     "iopub.execute_input": "2022-01-03T10:08:05.201223Z",
     "iopub.status.busy": "2022-01-03T10:08:05.200577Z",
     "iopub.status.idle": "2022-01-03T10:08:05.345392Z",
     "shell.execute_reply": "2022-01-03T10:08:05.344770Z",
     "shell.execute_reply.started": "2022-01-03T10:07:01.589378Z"
    },
    "papermill": {
     "duration": 0.207334,
     "end_time": "2022-01-03T10:08:05.345534",
     "exception": false,
     "start_time": "2022-01-03T10:08:05.138200",
     "status": "completed"
    },
    "tags": []
   },
   "outputs": [],
   "source": [
    "from xgboost import XGBRegressor as xgbr"
   ]
  },
  {
   "cell_type": "code",
   "execution_count": 37,
   "id": "4b5f845d",
   "metadata": {
    "execution": {
     "iopub.execute_input": "2022-01-03T10:08:05.470916Z",
     "iopub.status.busy": "2022-01-03T10:08:05.470298Z",
     "iopub.status.idle": "2022-01-03T10:08:05.475840Z",
     "shell.execute_reply": "2022-01-03T10:08:05.476302Z",
     "shell.execute_reply.started": "2022-01-03T10:07:01.750505Z"
    },
    "papermill": {
     "duration": 0.0706,
     "end_time": "2022-01-03T10:08:05.476451",
     "exception": false,
     "start_time": "2022-01-03T10:08:05.405851",
     "status": "completed"
    },
    "tags": []
   },
   "outputs": [
    {
     "name": "stdout",
     "output_type": "stream",
     "text": [
      "XGBRegressor(base_score=None, booster=None, colsample_bylevel=None,\n",
      "             colsample_bynode=None, colsample_bytree=None,\n",
      "             enable_categorical=False, gamma=None, gpu_id=None,\n",
      "             importance_type=None, interaction_constraints=None,\n",
      "             learning_rate=None, max_delta_step=None, max_depth=None,\n",
      "             min_child_weight=None, missing=nan, monotone_constraints=None,\n",
      "             n_estimators=100, n_jobs=None, num_parallel_tree=None,\n",
      "             predictor=None, random_state=None, reg_alpha=None, reg_lambda=None,\n",
      "             scale_pos_weight=None, subsample=None, tree_method=None,\n",
      "             validate_parameters=None, verbosity=None)\n"
     ]
    }
   ],
   "source": [
    "baseline_model = xgbr()\n",
    "print(baseline_model)"
   ]
  },
  {
   "cell_type": "code",
   "execution_count": 38,
   "id": "0f480a3c",
   "metadata": {
    "execution": {
     "iopub.execute_input": "2022-01-03T10:08:05.600331Z",
     "iopub.status.busy": "2022-01-03T10:08:05.599769Z",
     "iopub.status.idle": "2022-01-03T10:08:05.611451Z",
     "shell.execute_reply": "2022-01-03T10:08:05.611978Z",
     "shell.execute_reply.started": "2022-01-03T10:07:01.761270Z"
    },
    "papermill": {
     "duration": 0.076237,
     "end_time": "2022-01-03T10:08:05.612147",
     "exception": false,
     "start_time": "2022-01-03T10:08:05.535910",
     "status": "completed"
    },
    "tags": []
   },
   "outputs": [
    {
     "data": {
      "text/html": [
       "<div>\n",
       "<style scoped>\n",
       "    .dataframe tbody tr th:only-of-type {\n",
       "        vertical-align: middle;\n",
       "    }\n",
       "\n",
       "    .dataframe tbody tr th {\n",
       "        vertical-align: top;\n",
       "    }\n",
       "\n",
       "    .dataframe thead th {\n",
       "        text-align: right;\n",
       "    }\n",
       "</style>\n",
       "<table border=\"1\" class=\"dataframe\">\n",
       "  <thead>\n",
       "    <tr style=\"text-align: right;\">\n",
       "      <th></th>\n",
       "      <th>row_id</th>\n",
       "      <th>year</th>\n",
       "      <th>month</th>\n",
       "      <th>day</th>\n",
       "      <th>Finland</th>\n",
       "      <th>Norway</th>\n",
       "      <th>Sweden</th>\n",
       "      <th>KaggleMart</th>\n",
       "      <th>KaggleRama</th>\n",
       "      <th>Kaggle Hat</th>\n",
       "      <th>Kaggle Mug</th>\n",
       "      <th>Kaggle Sticker</th>\n",
       "    </tr>\n",
       "  </thead>\n",
       "  <tbody>\n",
       "    <tr>\n",
       "      <th>0</th>\n",
       "      <td>0</td>\n",
       "      <td>0</td>\n",
       "      <td>1</td>\n",
       "      <td>1</td>\n",
       "      <td>1</td>\n",
       "      <td>0</td>\n",
       "      <td>0</td>\n",
       "      <td>1</td>\n",
       "      <td>0</td>\n",
       "      <td>0</td>\n",
       "      <td>1</td>\n",
       "      <td>0</td>\n",
       "    </tr>\n",
       "    <tr>\n",
       "      <th>1</th>\n",
       "      <td>1</td>\n",
       "      <td>0</td>\n",
       "      <td>1</td>\n",
       "      <td>1</td>\n",
       "      <td>1</td>\n",
       "      <td>0</td>\n",
       "      <td>0</td>\n",
       "      <td>1</td>\n",
       "      <td>0</td>\n",
       "      <td>1</td>\n",
       "      <td>0</td>\n",
       "      <td>0</td>\n",
       "    </tr>\n",
       "    <tr>\n",
       "      <th>2</th>\n",
       "      <td>2</td>\n",
       "      <td>0</td>\n",
       "      <td>1</td>\n",
       "      <td>1</td>\n",
       "      <td>1</td>\n",
       "      <td>0</td>\n",
       "      <td>0</td>\n",
       "      <td>1</td>\n",
       "      <td>0</td>\n",
       "      <td>0</td>\n",
       "      <td>0</td>\n",
       "      <td>1</td>\n",
       "    </tr>\n",
       "    <tr>\n",
       "      <th>3</th>\n",
       "      <td>3</td>\n",
       "      <td>0</td>\n",
       "      <td>1</td>\n",
       "      <td>1</td>\n",
       "      <td>1</td>\n",
       "      <td>0</td>\n",
       "      <td>0</td>\n",
       "      <td>0</td>\n",
       "      <td>1</td>\n",
       "      <td>0</td>\n",
       "      <td>1</td>\n",
       "      <td>0</td>\n",
       "    </tr>\n",
       "    <tr>\n",
       "      <th>4</th>\n",
       "      <td>4</td>\n",
       "      <td>0</td>\n",
       "      <td>1</td>\n",
       "      <td>1</td>\n",
       "      <td>1</td>\n",
       "      <td>0</td>\n",
       "      <td>0</td>\n",
       "      <td>0</td>\n",
       "      <td>1</td>\n",
       "      <td>1</td>\n",
       "      <td>0</td>\n",
       "      <td>0</td>\n",
       "    </tr>\n",
       "  </tbody>\n",
       "</table>\n",
       "</div>"
      ],
      "text/plain": [
       "   row_id  year  month  day  Finland  Norway  Sweden  KaggleMart  KaggleRama  \\\n",
       "0       0     0      1    1        1       0       0           1           0   \n",
       "1       1     0      1    1        1       0       0           1           0   \n",
       "2       2     0      1    1        1       0       0           1           0   \n",
       "3       3     0      1    1        1       0       0           0           1   \n",
       "4       4     0      1    1        1       0       0           0           1   \n",
       "\n",
       "   Kaggle Hat  Kaggle Mug  Kaggle Sticker  \n",
       "0           0           1               0  \n",
       "1           1           0               0  \n",
       "2           0           0               1  \n",
       "3           0           1               0  \n",
       "4           1           0               0  "
      ]
     },
     "execution_count": 38,
     "metadata": {},
     "output_type": "execute_result"
    }
   ],
   "source": [
    "target = train.num_sold\n",
    "train.drop('num_sold', 1 , inplace = True)\n",
    "train.head()"
   ]
  },
  {
   "cell_type": "code",
   "execution_count": 39,
   "id": "c76b7e79",
   "metadata": {
    "execution": {
     "iopub.execute_input": "2022-01-03T10:08:05.736778Z",
     "iopub.status.busy": "2022-01-03T10:08:05.736245Z",
     "iopub.status.idle": "2022-01-03T10:08:05.929672Z",
     "shell.execute_reply": "2022-01-03T10:08:05.929245Z",
     "shell.execute_reply.started": "2022-01-03T10:07:01.780237Z"
    },
    "papermill": {
     "duration": 0.256834,
     "end_time": "2022-01-03T10:08:05.929797",
     "exception": false,
     "start_time": "2022-01-03T10:08:05.672963",
     "status": "completed"
    },
    "tags": []
   },
   "outputs": [
    {
     "data": {
      "image/png": "[encoded data removed]",
      "text/plain": [
       "<Figure size 432x288 with 1 Axes>"
      ]
     },
     "metadata": {
      "needs_background": "light"
     },
     "output_type": "display_data"
    }
   ],
   "source": [
    "plt.hist(target)\n",
    "plt.show()"
   ]
  },
  {
   "cell_type": "markdown",
   "id": "19d3d06a",
   "metadata": {
    "papermill": {
     "duration": 0.06217,
     "end_time": "2022-01-03T10:08:06.054493",
     "exception": false,
     "start_time": "2022-01-03T10:08:05.992323",
     "status": "completed"
    },
    "tags": []
   },
   "source": [
    "We also have to prepare the train and the validation set so that we can understand the overfit quality of the model and wheter it should be discarded or not."
   ]
  },
  {
   "cell_type": "code",
   "execution_count": 40,
   "id": "5fcb97f6",
   "metadata": {
    "execution": {
     "iopub.execute_input": "2022-01-03T10:08:06.183518Z",
     "iopub.status.busy": "2022-01-03T10:08:06.182957Z",
     "iopub.status.idle": "2022-01-03T10:08:06.185484Z",
     "shell.execute_reply": "2022-01-03T10:08:06.185066Z",
     "shell.execute_reply.started": "2022-01-03T10:07:01.987823Z"
    },
    "papermill": {
     "duration": 0.06901,
     "end_time": "2022-01-03T10:08:06.185601",
     "exception": false,
     "start_time": "2022-01-03T10:08:06.116591",
     "status": "completed"
    },
    "tags": []
   },
   "outputs": [],
   "source": [
    "from sklearn.model_selection import train_test_split"
   ]
  },
  {
   "cell_type": "code",
   "execution_count": 41,
   "id": "86b44e57",
   "metadata": {
    "execution": {
     "iopub.execute_input": "2022-01-03T10:08:06.309336Z",
     "iopub.status.busy": "2022-01-03T10:08:06.308695Z",
     "iopub.status.idle": "2022-01-03T10:08:06.315897Z",
     "shell.execute_reply": "2022-01-03T10:08:06.316298Z",
     "shell.execute_reply.started": "2022-01-03T10:07:01.993688Z"
    },
    "papermill": {
     "duration": 0.070305,
     "end_time": "2022-01-03T10:08:06.316433",
     "exception": false,
     "start_time": "2022-01-03T10:08:06.246128",
     "status": "completed"
    },
    "tags": []
   },
   "outputs": [],
   "source": [
    "X_train, X_val, y_train, y_val = train_test_split(train, target, test_size = 0.2, random_state = 42)"
   ]
  },
  {
   "cell_type": "code",
   "execution_count": 42,
   "id": "62c5651d",
   "metadata": {
    "execution": {
     "iopub.execute_input": "2022-01-03T10:08:06.446669Z",
     "iopub.status.busy": "2022-01-03T10:08:06.446030Z",
     "iopub.status.idle": "2022-01-03T10:08:06.448622Z",
     "shell.execute_reply": "2022-01-03T10:08:06.449035Z",
     "shell.execute_reply.started": "2022-01-03T10:07:02.016102Z"
    },
    "papermill": {
     "duration": 0.073093,
     "end_time": "2022-01-03T10:08:06.449170",
     "exception": false,
     "start_time": "2022-01-03T10:08:06.376077",
     "status": "completed"
    },
    "tags": []
   },
   "outputs": [
    {
     "data": {
      "text/html": [
       "<div>\n",
       "<style scoped>\n",
       "    .dataframe tbody tr th:only-of-type {\n",
       "        vertical-align: middle;\n",
       "    }\n",
       "\n",
       "    .dataframe tbody tr th {\n",
       "        vertical-align: top;\n",
       "    }\n",
       "\n",
       "    .dataframe thead th {\n",
       "        text-align: right;\n",
       "    }\n",
       "</style>\n",
       "<table border=\"1\" class=\"dataframe\">\n",
       "  <thead>\n",
       "    <tr style=\"text-align: right;\">\n",
       "      <th></th>\n",
       "      <th>row_id</th>\n",
       "      <th>year</th>\n",
       "      <th>month</th>\n",
       "      <th>day</th>\n",
       "      <th>Finland</th>\n",
       "      <th>Norway</th>\n",
       "      <th>Sweden</th>\n",
       "      <th>KaggleMart</th>\n",
       "      <th>KaggleRama</th>\n",
       "      <th>Kaggle Hat</th>\n",
       "      <th>Kaggle Mug</th>\n",
       "      <th>Kaggle Sticker</th>\n",
       "    </tr>\n",
       "  </thead>\n",
       "  <tbody>\n",
       "    <tr>\n",
       "      <th>25456</th>\n",
       "      <td>25456</td>\n",
       "      <td>3</td>\n",
       "      <td>11</td>\n",
       "      <td>15</td>\n",
       "      <td>1</td>\n",
       "      <td>0</td>\n",
       "      <td>0</td>\n",
       "      <td>0</td>\n",
       "      <td>1</td>\n",
       "      <td>1</td>\n",
       "      <td>0</td>\n",
       "      <td>0</td>\n",
       "    </tr>\n",
       "    <tr>\n",
       "      <th>14983</th>\n",
       "      <td>14983</td>\n",
       "      <td>2</td>\n",
       "      <td>4</td>\n",
       "      <td>12</td>\n",
       "      <td>0</td>\n",
       "      <td>1</td>\n",
       "      <td>0</td>\n",
       "      <td>1</td>\n",
       "      <td>0</td>\n",
       "      <td>1</td>\n",
       "      <td>0</td>\n",
       "      <td>0</td>\n",
       "    </tr>\n",
       "    <tr>\n",
       "      <th>18009</th>\n",
       "      <td>18009</td>\n",
       "      <td>2</td>\n",
       "      <td>9</td>\n",
       "      <td>27</td>\n",
       "      <td>0</td>\n",
       "      <td>1</td>\n",
       "      <td>0</td>\n",
       "      <td>0</td>\n",
       "      <td>1</td>\n",
       "      <td>0</td>\n",
       "      <td>1</td>\n",
       "      <td>0</td>\n",
       "    </tr>\n",
       "    <tr>\n",
       "      <th>22326</th>\n",
       "      <td>22326</td>\n",
       "      <td>3</td>\n",
       "      <td>5</td>\n",
       "      <td>25</td>\n",
       "      <td>0</td>\n",
       "      <td>1</td>\n",
       "      <td>0</td>\n",
       "      <td>1</td>\n",
       "      <td>0</td>\n",
       "      <td>0</td>\n",
       "      <td>1</td>\n",
       "      <td>0</td>\n",
       "    </tr>\n",
       "    <tr>\n",
       "      <th>10114</th>\n",
       "      <td>10114</td>\n",
       "      <td>1</td>\n",
       "      <td>7</td>\n",
       "      <td>15</td>\n",
       "      <td>0</td>\n",
       "      <td>0</td>\n",
       "      <td>1</td>\n",
       "      <td>0</td>\n",
       "      <td>1</td>\n",
       "      <td>1</td>\n",
       "      <td>0</td>\n",
       "      <td>0</td>\n",
       "    </tr>\n",
       "  </tbody>\n",
       "</table>\n",
       "</div>"
      ],
      "text/plain": [
       "       row_id  year  month  day  Finland  Norway  Sweden  KaggleMart  \\\n",
       "25456   25456     3     11   15        1       0       0           0   \n",
       "14983   14983     2      4   12        0       1       0           1   \n",
       "18009   18009     2      9   27        0       1       0           0   \n",
       "22326   22326     3      5   25        0       1       0           1   \n",
       "10114   10114     1      7   15        0       0       1           0   \n",
       "\n",
       "       KaggleRama  Kaggle Hat  Kaggle Mug  Kaggle Sticker  \n",
       "25456           1           1           0               0  \n",
       "14983           0           1           0               0  \n",
       "18009           1           0           1               0  \n",
       "22326           0           0           1               0  \n",
       "10114           1           1           0               0  "
      ]
     },
     "execution_count": 42,
     "metadata": {},
     "output_type": "execute_result"
    }
   ],
   "source": [
    "X_train.head()"
   ]
  },
  {
   "cell_type": "code",
   "execution_count": 43,
   "id": "2eb75557",
   "metadata": {
    "execution": {
     "iopub.execute_input": "2022-01-03T10:08:06.575142Z",
     "iopub.status.busy": "2022-01-03T10:08:06.573305Z",
     "iopub.status.idle": "2022-01-03T10:08:06.582973Z",
     "shell.execute_reply": "2022-01-03T10:08:06.583403Z",
     "shell.execute_reply.started": "2022-01-03T10:07:02.033376Z"
    },
    "papermill": {
     "duration": 0.073468,
     "end_time": "2022-01-03T10:08:06.583533",
     "exception": false,
     "start_time": "2022-01-03T10:08:06.510065",
     "status": "completed"
    },
    "tags": []
   },
   "outputs": [
    {
     "data": {
      "text/html": [
       "<div>\n",
       "<style scoped>\n",
       "    .dataframe tbody tr th:only-of-type {\n",
       "        vertical-align: middle;\n",
       "    }\n",
       "\n",
       "    .dataframe tbody tr th {\n",
       "        vertical-align: top;\n",
       "    }\n",
       "\n",
       "    .dataframe thead th {\n",
       "        text-align: right;\n",
       "    }\n",
       "</style>\n",
       "<table border=\"1\" class=\"dataframe\">\n",
       "  <thead>\n",
       "    <tr style=\"text-align: right;\">\n",
       "      <th></th>\n",
       "      <th>row_id</th>\n",
       "      <th>year</th>\n",
       "      <th>month</th>\n",
       "      <th>day</th>\n",
       "      <th>Finland</th>\n",
       "      <th>Norway</th>\n",
       "      <th>Sweden</th>\n",
       "      <th>KaggleMart</th>\n",
       "      <th>KaggleRama</th>\n",
       "      <th>Kaggle Hat</th>\n",
       "      <th>Kaggle Mug</th>\n",
       "      <th>Kaggle Sticker</th>\n",
       "    </tr>\n",
       "  </thead>\n",
       "  <tbody>\n",
       "    <tr>\n",
       "      <th>15429</th>\n",
       "      <td>15429</td>\n",
       "      <td>2</td>\n",
       "      <td>5</td>\n",
       "      <td>7</td>\n",
       "      <td>1</td>\n",
       "      <td>0</td>\n",
       "      <td>0</td>\n",
       "      <td>0</td>\n",
       "      <td>1</td>\n",
       "      <td>0</td>\n",
       "      <td>1</td>\n",
       "      <td>0</td>\n",
       "    </tr>\n",
       "    <tr>\n",
       "      <th>14903</th>\n",
       "      <td>14903</td>\n",
       "      <td>2</td>\n",
       "      <td>4</td>\n",
       "      <td>7</td>\n",
       "      <td>0</td>\n",
       "      <td>0</td>\n",
       "      <td>1</td>\n",
       "      <td>0</td>\n",
       "      <td>1</td>\n",
       "      <td>0</td>\n",
       "      <td>0</td>\n",
       "      <td>1</td>\n",
       "    </tr>\n",
       "    <tr>\n",
       "      <th>2973</th>\n",
       "      <td>2973</td>\n",
       "      <td>0</td>\n",
       "      <td>6</td>\n",
       "      <td>15</td>\n",
       "      <td>1</td>\n",
       "      <td>0</td>\n",
       "      <td>0</td>\n",
       "      <td>0</td>\n",
       "      <td>1</td>\n",
       "      <td>0</td>\n",
       "      <td>1</td>\n",
       "      <td>0</td>\n",
       "    </tr>\n",
       "    <tr>\n",
       "      <th>15267</th>\n",
       "      <td>15267</td>\n",
       "      <td>2</td>\n",
       "      <td>4</td>\n",
       "      <td>28</td>\n",
       "      <td>1</td>\n",
       "      <td>0</td>\n",
       "      <td>0</td>\n",
       "      <td>0</td>\n",
       "      <td>1</td>\n",
       "      <td>0</td>\n",
       "      <td>1</td>\n",
       "      <td>0</td>\n",
       "    </tr>\n",
       "    <tr>\n",
       "      <th>22153</th>\n",
       "      <td>22153</td>\n",
       "      <td>3</td>\n",
       "      <td>5</td>\n",
       "      <td>15</td>\n",
       "      <td>0</td>\n",
       "      <td>0</td>\n",
       "      <td>1</td>\n",
       "      <td>1</td>\n",
       "      <td>0</td>\n",
       "      <td>1</td>\n",
       "      <td>0</td>\n",
       "      <td>0</td>\n",
       "    </tr>\n",
       "  </tbody>\n",
       "</table>\n",
       "</div>"
      ],
      "text/plain": [
       "       row_id  year  month  day  Finland  Norway  Sweden  KaggleMart  \\\n",
       "15429   15429     2      5    7        1       0       0           0   \n",
       "14903   14903     2      4    7        0       0       1           0   \n",
       "2973     2973     0      6   15        1       0       0           0   \n",
       "15267   15267     2      4   28        1       0       0           0   \n",
       "22153   22153     3      5   15        0       0       1           1   \n",
       "\n",
       "       KaggleRama  Kaggle Hat  Kaggle Mug  Kaggle Sticker  \n",
       "15429           1           0           1               0  \n",
       "14903           1           0           0               1  \n",
       "2973            1           0           1               0  \n",
       "15267           1           0           1               0  \n",
       "22153           0           1           0               0  "
      ]
     },
     "execution_count": 43,
     "metadata": {},
     "output_type": "execute_result"
    }
   ],
   "source": [
    "X_val.head()"
   ]
  },
  {
   "cell_type": "code",
   "execution_count": 44,
   "id": "8fa095df",
   "metadata": {
    "execution": {
     "iopub.execute_input": "2022-01-03T10:08:06.711548Z",
     "iopub.status.busy": "2022-01-03T10:08:06.710760Z",
     "iopub.status.idle": "2022-01-03T10:08:07.951986Z",
     "shell.execute_reply": "2022-01-03T10:08:07.952483Z",
     "shell.execute_reply.started": "2022-01-03T10:07:02.056933Z"
    },
    "papermill": {
     "duration": 1.306356,
     "end_time": "2022-01-03T10:08:07.952642",
     "exception": false,
     "start_time": "2022-01-03T10:08:06.646286",
     "status": "completed"
    },
    "tags": []
   },
   "outputs": [
    {
     "name": "stdout",
     "output_type": "stream",
     "text": [
      "CPU times: user 4.74 s, sys: 12.9 ms, total: 4.75 s\n",
      "Wall time: 1.23 s\n"
     ]
    },
    {
     "data": {
      "text/plain": [
       "XGBRegressor(base_score=0.5, booster='gbtree', colsample_bylevel=1,\n",
       "             colsample_bynode=1, colsample_bytree=1, enable_categorical=False,\n",
       "             gamma=0, gpu_id=-1, importance_type=None,\n",
       "             interaction_constraints='', learning_rate=0.300000012,\n",
       "             max_delta_step=0, max_depth=6, min_child_weight=1, missing=nan,\n",
       "             monotone_constraints='()', n_estimators=100, n_jobs=4,\n",
       "             num_parallel_tree=1, predictor='auto', random_state=0, reg_alpha=0,\n",
       "             reg_lambda=1, scale_pos_weight=1, subsample=1, tree_method='exact',\n",
       "             validate_parameters=1, verbosity=None)"
      ]
     },
     "execution_count": 44,
     "metadata": {},
     "output_type": "execute_result"
    }
   ],
   "source": [
    "%%time\n",
    "baseline_model.fit(X_train, y_train)"
   ]
  },
  {
   "cell_type": "code",
   "execution_count": 45,
   "id": "d1e7ba60",
   "metadata": {
    "execution": {
     "iopub.execute_input": "2022-01-03T10:08:08.086447Z",
     "iopub.status.busy": "2022-01-03T10:08:08.085468Z",
     "iopub.status.idle": "2022-01-03T10:08:08.114987Z",
     "shell.execute_reply": "2022-01-03T10:08:08.115528Z",
     "shell.execute_reply.started": "2022-01-03T10:07:03.448729Z"
    },
    "papermill": {
     "duration": 0.098989,
     "end_time": "2022-01-03T10:08:08.115684",
     "exception": false,
     "start_time": "2022-01-03T10:08:08.016695",
     "status": "completed"
    },
    "tags": []
   },
   "outputs": [
    {
     "data": {
      "text/plain": [
       "0.9818697646671104"
      ]
     },
     "execution_count": 45,
     "metadata": {},
     "output_type": "execute_result"
    }
   ],
   "source": [
    "baseline_model.score(X_train,y_train)"
   ]
  },
  {
   "cell_type": "code",
   "execution_count": 46,
   "id": "7d68bca6",
   "metadata": {
    "execution": {
     "iopub.execute_input": "2022-01-03T10:08:08.257318Z",
     "iopub.status.busy": "2022-01-03T10:08:08.253124Z",
     "iopub.status.idle": "2022-01-03T10:08:08.267922Z",
     "shell.execute_reply": "2022-01-03T10:08:08.268545Z",
     "shell.execute_reply.started": "2022-01-03T10:07:03.486496Z"
    },
    "papermill": {
     "duration": 0.084453,
     "end_time": "2022-01-03T10:08:08.268713",
     "exception": false,
     "start_time": "2022-01-03T10:08:08.184260",
     "status": "completed"
    },
    "tags": []
   },
   "outputs": [
    {
     "data": {
      "text/plain": [
       "0.973262193903784"
      ]
     },
     "execution_count": 46,
     "metadata": {},
     "output_type": "execute_result"
    }
   ],
   "source": [
    "baseline_model.score(X_val, y_val)"
   ]
  },
  {
   "cell_type": "code",
   "execution_count": 47,
   "id": "77ebdcd7",
   "metadata": {
    "execution": {
     "iopub.execute_input": "2022-01-03T10:08:08.403747Z",
     "iopub.status.busy": "2022-01-03T10:08:08.403159Z",
     "iopub.status.idle": "2022-01-03T10:08:08.417120Z",
     "shell.execute_reply": "2022-01-03T10:08:08.417693Z",
     "shell.execute_reply.started": "2022-01-03T10:07:03.513739Z"
    },
    "papermill": {
     "duration": 0.084357,
     "end_time": "2022-01-03T10:08:08.417879",
     "exception": false,
     "start_time": "2022-01-03T10:08:08.333522",
     "status": "completed"
    },
    "tags": []
   },
   "outputs": [
    {
     "data": {
      "text/plain": [
       "array([ 462.5903,  645.7235,  218.5234, ...,  986.0292, 1458.9998,\n",
       "        406.8893], dtype=float32)"
      ]
     },
     "execution_count": 47,
     "metadata": {},
     "output_type": "execute_result"
    }
   ],
   "source": [
    "y_pred = baseline_model.predict(test)\n",
    "y_pred"
   ]
  },
  {
   "cell_type": "code",
   "execution_count": 48,
   "id": "46e44458",
   "metadata": {
    "execution": {
     "iopub.execute_input": "2022-01-03T10:08:08.550479Z",
     "iopub.status.busy": "2022-01-03T10:08:08.549847Z",
     "iopub.status.idle": "2022-01-03T10:08:08.565745Z",
     "shell.execute_reply": "2022-01-03T10:08:08.566163Z",
     "shell.execute_reply.started": "2022-01-03T10:07:03.553074Z"
    },
    "papermill": {
     "duration": 0.08359,
     "end_time": "2022-01-03T10:08:08.566298",
     "exception": false,
     "start_time": "2022-01-03T10:08:08.482708",
     "status": "completed"
    },
    "tags": []
   },
   "outputs": [
    {
     "data": {
      "text/html": [
       "<div>\n",
       "<style scoped>\n",
       "    .dataframe tbody tr th:only-of-type {\n",
       "        vertical-align: middle;\n",
       "    }\n",
       "\n",
       "    .dataframe tbody tr th {\n",
       "        vertical-align: top;\n",
       "    }\n",
       "\n",
       "    .dataframe thead th {\n",
       "        text-align: right;\n",
       "    }\n",
       "</style>\n",
       "<table border=\"1\" class=\"dataframe\">\n",
       "  <thead>\n",
       "    <tr style=\"text-align: right;\">\n",
       "      <th></th>\n",
       "      <th>row_id</th>\n",
       "      <th>num_sold</th>\n",
       "    </tr>\n",
       "  </thead>\n",
       "  <tbody>\n",
       "    <tr>\n",
       "      <th>0</th>\n",
       "      <td>26298</td>\n",
       "      <td>100</td>\n",
       "    </tr>\n",
       "    <tr>\n",
       "      <th>1</th>\n",
       "      <td>26299</td>\n",
       "      <td>100</td>\n",
       "    </tr>\n",
       "    <tr>\n",
       "      <th>2</th>\n",
       "      <td>26300</td>\n",
       "      <td>100</td>\n",
       "    </tr>\n",
       "    <tr>\n",
       "      <th>3</th>\n",
       "      <td>26301</td>\n",
       "      <td>100</td>\n",
       "    </tr>\n",
       "    <tr>\n",
       "      <th>4</th>\n",
       "      <td>26302</td>\n",
       "      <td>100</td>\n",
       "    </tr>\n",
       "  </tbody>\n",
       "</table>\n",
       "</div>"
      ],
      "text/plain": [
       "   row_id  num_sold\n",
       "0   26298       100\n",
       "1   26299       100\n",
       "2   26300       100\n",
       "3   26301       100\n",
       "4   26302       100"
      ]
     },
     "execution_count": 48,
     "metadata": {},
     "output_type": "execute_result"
    }
   ],
   "source": [
    "submission_format = pd.read_csv('../input/tabular-playground-series-jan-2022/sample_submission.csv')\n",
    "submission_format.head()"
   ]
  },
  {
   "cell_type": "code",
   "execution_count": 49,
   "id": "e7717342",
   "metadata": {
    "execution": {
     "iopub.execute_input": "2022-01-03T10:08:08.701487Z",
     "iopub.status.busy": "2022-01-03T10:08:08.700692Z",
     "iopub.status.idle": "2022-01-03T10:08:08.707723Z",
     "shell.execute_reply": "2022-01-03T10:08:08.708221Z",
     "shell.execute_reply.started": "2022-01-03T10:07:03.577970Z"
    },
    "papermill": {
     "duration": 0.076261,
     "end_time": "2022-01-03T10:08:08.708363",
     "exception": false,
     "start_time": "2022-01-03T10:08:08.632102",
     "status": "completed"
    },
    "tags": []
   },
   "outputs": [
    {
     "data": {
      "text/html": [
       "<div>\n",
       "<style scoped>\n",
       "    .dataframe tbody tr th:only-of-type {\n",
       "        vertical-align: middle;\n",
       "    }\n",
       "\n",
       "    .dataframe tbody tr th {\n",
       "        vertical-align: top;\n",
       "    }\n",
       "\n",
       "    .dataframe thead th {\n",
       "        text-align: right;\n",
       "    }\n",
       "</style>\n",
       "<table border=\"1\" class=\"dataframe\">\n",
       "  <thead>\n",
       "    <tr style=\"text-align: right;\">\n",
       "      <th></th>\n",
       "      <th>row_id</th>\n",
       "      <th>num_sold</th>\n",
       "    </tr>\n",
       "  </thead>\n",
       "  <tbody>\n",
       "    <tr>\n",
       "      <th>0</th>\n",
       "      <td>26298</td>\n",
       "      <td>100</td>\n",
       "    </tr>\n",
       "    <tr>\n",
       "      <th>1</th>\n",
       "      <td>26299</td>\n",
       "      <td>100</td>\n",
       "    </tr>\n",
       "    <tr>\n",
       "      <th>2</th>\n",
       "      <td>26300</td>\n",
       "      <td>100</td>\n",
       "    </tr>\n",
       "    <tr>\n",
       "      <th>3</th>\n",
       "      <td>26301</td>\n",
       "      <td>100</td>\n",
       "    </tr>\n",
       "    <tr>\n",
       "      <th>4</th>\n",
       "      <td>26302</td>\n",
       "      <td>100</td>\n",
       "    </tr>\n",
       "  </tbody>\n",
       "</table>\n",
       "</div>"
      ],
      "text/plain": [
       "   row_id  num_sold\n",
       "0   26298       100\n",
       "1   26299       100\n",
       "2   26300       100\n",
       "3   26301       100\n",
       "4   26302       100"
      ]
     },
     "execution_count": 49,
     "metadata": {},
     "output_type": "execute_result"
    }
   ],
   "source": [
    "submission_data = submission_format\n",
    "submission_data.head()"
   ]
  },
  {
   "cell_type": "code",
   "execution_count": 50,
   "id": "146680b1",
   "metadata": {
    "execution": {
     "iopub.execute_input": "2022-01-03T10:08:08.846514Z",
     "iopub.status.busy": "2022-01-03T10:08:08.845945Z",
     "iopub.status.idle": "2022-01-03T10:08:09.033887Z",
     "shell.execute_reply": "2022-01-03T10:08:09.033316Z",
     "shell.execute_reply.started": "2022-01-03T10:07:03.590702Z"
    },
    "papermill": {
     "duration": 0.257983,
     "end_time": "2022-01-03T10:08:09.034045",
     "exception": false,
     "start_time": "2022-01-03T10:08:08.776062",
     "status": "completed"
    },
    "tags": []
   },
   "outputs": [],
   "source": [
    "from sklearn.ensemble import RandomForestRegressor as rfr"
   ]
  },
  {
   "cell_type": "code",
   "execution_count": 51,
   "id": "8a091566",
   "metadata": {
    "execution": {
     "iopub.execute_input": "2022-01-03T10:08:09.169401Z",
     "iopub.status.busy": "2022-01-03T10:08:09.168762Z",
     "iopub.status.idle": "2022-01-03T10:08:09.171592Z",
     "shell.execute_reply": "2022-01-03T10:08:09.171074Z",
     "shell.execute_reply.started": "2022-01-03T10:07:03.815724Z"
    },
    "papermill": {
     "duration": 0.072336,
     "end_time": "2022-01-03T10:08:09.171711",
     "exception": false,
     "start_time": "2022-01-03T10:08:09.099375",
     "status": "completed"
    },
    "tags": []
   },
   "outputs": [
    {
     "name": "stdout",
     "output_type": "stream",
     "text": [
      "RandomForestRegressor(n_estimators=50)\n"
     ]
    }
   ],
   "source": [
    "rfr_model = rfr(n_estimators = 50)\n",
    "print(rfr_model)"
   ]
  },
  {
   "cell_type": "code",
   "execution_count": 52,
   "id": "7228c068",
   "metadata": {
    "execution": {
     "iopub.execute_input": "2022-01-03T10:08:09.308697Z",
     "iopub.status.busy": "2022-01-03T10:08:09.308116Z",
     "iopub.status.idle": "2022-01-03T10:08:11.903126Z",
     "shell.execute_reply": "2022-01-03T10:08:11.903894Z",
     "shell.execute_reply.started": "2022-01-03T10:07:03.823963Z"
    },
    "papermill": {
     "duration": 2.667808,
     "end_time": "2022-01-03T10:08:11.904118",
     "exception": false,
     "start_time": "2022-01-03T10:08:09.236310",
     "status": "completed"
    },
    "tags": []
   },
   "outputs": [
    {
     "name": "stdout",
     "output_type": "stream",
     "text": [
      "CPU times: user 2.54 s, sys: 48 ms, total: 2.59 s\n",
      "Wall time: 2.59 s\n"
     ]
    },
    {
     "data": {
      "text/plain": [
       "RandomForestRegressor(n_estimators=50)"
      ]
     },
     "execution_count": 52,
     "metadata": {},
     "output_type": "execute_result"
    }
   ],
   "source": [
    "%%time\n",
    "rfr_model.fit(X_train, y_train)"
   ]
  },
  {
   "cell_type": "code",
   "execution_count": 53,
   "id": "141a58dd",
   "metadata": {
    "execution": {
     "iopub.execute_input": "2022-01-03T10:08:12.046310Z",
     "iopub.status.busy": "2022-01-03T10:08:12.045353Z",
     "iopub.status.idle": "2022-01-03T10:08:12.318465Z",
     "shell.execute_reply": "2022-01-03T10:08:12.317772Z",
     "shell.execute_reply.started": "2022-01-03T10:07:06.726709Z"
    },
    "papermill": {
     "duration": 0.345808,
     "end_time": "2022-01-03T10:08:12.318592",
     "exception": false,
     "start_time": "2022-01-03T10:08:11.972784",
     "status": "completed"
    },
    "tags": []
   },
   "outputs": [
    {
     "data": {
      "text/plain": [
       "0.9931386632142013"
      ]
     },
     "execution_count": 53,
     "metadata": {},
     "output_type": "execute_result"
    }
   ],
   "source": [
    "rfr_model.score(X_train, y_train)"
   ]
  },
  {
   "cell_type": "code",
   "execution_count": 54,
   "id": "03bf2e01",
   "metadata": {
    "execution": {
     "iopub.execute_input": "2022-01-03T10:08:12.459898Z",
     "iopub.status.busy": "2022-01-03T10:08:12.458953Z",
     "iopub.status.idle": "2022-01-03T10:08:12.550991Z",
     "shell.execute_reply": "2022-01-03T10:08:12.550404Z",
     "shell.execute_reply.started": "2022-01-03T10:07:07.056108Z"
    },
    "papermill": {
     "duration": 0.165414,
     "end_time": "2022-01-03T10:08:12.551125",
     "exception": false,
     "start_time": "2022-01-03T10:08:12.385711",
     "status": "completed"
    },
    "tags": []
   },
   "outputs": [
    {
     "data": {
      "text/plain": [
       "0.9510680617750253"
      ]
     },
     "execution_count": 54,
     "metadata": {},
     "output_type": "execute_result"
    }
   ],
   "source": [
    "rfr_model.score(X_val, y_val)"
   ]
  },
  {
   "cell_type": "code",
   "execution_count": 55,
   "id": "bbdf0b45",
   "metadata": {
    "execution": {
     "iopub.execute_input": "2022-01-03T10:08:12.691628Z",
     "iopub.status.busy": "2022-01-03T10:08:12.691091Z",
     "iopub.status.idle": "2022-01-03T10:08:12.712528Z",
     "shell.execute_reply": "2022-01-03T10:08:12.712996Z",
     "shell.execute_reply.started": "2022-01-03T10:07:07.161736Z"
    },
    "papermill": {
     "duration": 0.094626,
     "end_time": "2022-01-03T10:08:12.713165",
     "exception": false,
     "start_time": "2022-01-03T10:08:12.618539",
     "status": "completed"
    },
    "tags": []
   },
   "outputs": [],
   "source": [
    "rfr_y_pred = rfr_model.predict(test)"
   ]
  },
  {
   "cell_type": "markdown",
   "id": "07f8a8e1",
   "metadata": {
    "papermill": {
     "duration": 0.067334,
     "end_time": "2022-01-03T10:08:12.847522",
     "exception": false,
     "start_time": "2022-01-03T10:08:12.780188",
     "status": "completed"
    },
    "tags": []
   },
   "source": [
    "Now we'll blend the outputs from both the models and use that as our target prediction."
   ]
  },
  {
   "cell_type": "code",
   "execution_count": 56,
   "id": "f8bbc63c",
   "metadata": {
    "execution": {
     "iopub.execute_input": "2022-01-03T10:08:12.989611Z",
     "iopub.status.busy": "2022-01-03T10:08:12.988694Z",
     "iopub.status.idle": "2022-01-03T10:08:12.991668Z",
     "shell.execute_reply": "2022-01-03T10:08:12.992106Z",
     "shell.execute_reply.started": "2022-01-03T10:07:07.191096Z"
    },
    "papermill": {
     "duration": 0.074498,
     "end_time": "2022-01-03T10:08:12.992246",
     "exception": false,
     "start_time": "2022-01-03T10:08:12.917748",
     "status": "completed"
    },
    "tags": []
   },
   "outputs": [],
   "source": [
    "submission_data.num_sold = rfr_y_pred * 0.5 + y_pred * 0.5"
   ]
  },
  {
   "cell_type": "code",
   "execution_count": 57,
   "id": "bdadbe8e",
   "metadata": {
    "execution": {
     "iopub.execute_input": "2022-01-03T10:08:13.128147Z",
     "iopub.status.busy": "2022-01-03T10:08:13.127603Z",
     "iopub.status.idle": "2022-01-03T10:08:13.153834Z",
     "shell.execute_reply": "2022-01-03T10:08:13.154282Z",
     "shell.execute_reply.started": "2022-01-03T10:07:07.197578Z"
    },
    "papermill": {
     "duration": 0.096573,
     "end_time": "2022-01-03T10:08:13.154444",
     "exception": false,
     "start_time": "2022-01-03T10:08:13.057871",
     "status": "completed"
    },
    "tags": []
   },
   "outputs": [],
   "source": [
    "# Pushing the data into a csv file for submission.\n",
    "submission_data.to_csv('blend1.csv', index = False)"
   ]
  },
  {
   "cell_type": "markdown",
   "id": "6ff5e0dc",
   "metadata": {
    "papermill": {
     "duration": 0.065046,
     "end_time": "2022-01-03T10:08:13.286908",
     "exception": false,
     "start_time": "2022-01-03T10:08:13.221862",
     "status": "completed"
    },
    "tags": []
   },
   "source": [
    "# Thanks for walking through this notebok :)\n",
    "\n",
    "## You can find other cool works of me on [kaggle](https://kaggle.com/sagnik1511) or on [github](https://github.com/sagnik1511)\n",
    "\n",
    "# Thank You :)"
   ]
  }
 ],
 "metadata": {
  "kernelspec": {
   "display_name": "Python 3",
   "language": "python",
   "name": "python3"
  },
  "language_info": {
   "codemirror_mode": {
    "name": "ipython",
    "version": 3
   },
   "file_extension": ".py",
   "mimetype": "text/x-python",
   "name": "python",
   "nbconvert_exporter": "python",
   "pygments_lexer": "ipython3",
   "version": "3.7.12"
  },
  "papermill": {
   "default_parameters": {},
   "duration": 37.770353,
   "end_time": "2022-01-03T10:08:13.959693",
   "environment_variables": {},
   "exception": null,
   "input_path": "__notebook__.ipynb",
   "output_path": "__notebook__.ipynb",
   "parameters": {},
   "start_time": "2022-01-03T10:07:36.189340",
   "version": "2.3.3"
  }
 },
 "nbformat": 4,
 "nbformat_minor": 5
}
